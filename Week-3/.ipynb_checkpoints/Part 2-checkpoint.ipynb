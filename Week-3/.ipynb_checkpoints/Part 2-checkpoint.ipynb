{
 "cells": [
  {
   "cell_type": "markdown",
   "metadata": {},
   "source": [
    "### COURSERA CAPSTONE PROJECT"
   ]
  },
  {
   "cell_type": "markdown",
   "metadata": {},
   "source": [
    "######  This notebook contains the coursera capstone project where our main aim is to locate and suggest friendly locality for  people for are moving from one place to another."
   ]
  },
  {
   "cell_type": "code",
   "execution_count": 2,
   "metadata": {},
   "outputs": [],
   "source": [
    "import pandas as pd\n",
    "import numpy as np\n",
    "import requests"
   ]
  },
  {
   "cell_type": "code",
   "execution_count": 5,
   "metadata": {},
   "outputs": [
    {
     "name": "stdout",
     "output_type": "stream",
     "text": [
      "Collecting pandas\n",
      "  Downloading pandas-1.0.5-cp37-cp37m-win32.whl (7.5 MB)\n",
      "Requirement already satisfied: pytz>=2017.2 in c:\\users\\lenovo\\appdata\\local\\programs\\python\\python37-32\\lib\\site-packages (from pandas) (2019.3)\n",
      "Requirement already satisfied: numpy>=1.13.3 in c:\\users\\lenovo\\appdata\\local\\programs\\python\\python37-32\\lib\\site-packages (from pandas) (1.16.2)\n",
      "Requirement already satisfied: python-dateutil>=2.6.1 in c:\\users\\lenovo\\appdata\\local\\programs\\python\\python37-32\\lib\\site-packages (from pandas) (2.8.0)\n",
      "Requirement already satisfied: six>=1.5 in c:\\users\\lenovo\\appdata\\local\\programs\\python\\python37-32\\lib\\site-packages (from python-dateutil>=2.6.1->pandas) (1.12.0)\n",
      "Installing collected packages: pandas\n",
      "Successfully installed pandas-1.0.5\n"
     ]
    }
   ],
   "source": [
    "!pip3 install pandas"
   ]
  },
  {
   "cell_type": "code",
   "execution_count": 3,
   "metadata": {},
   "outputs": [
    {
     "name": "stdout",
     "output_type": "stream",
     "text": [
      "Requirement already satisfied: lxml in c:\\users\\lenovo\\appdata\\local\\programs\\python\\python38\\lib\\site-packages (4.5.2)\n"
     ]
    }
   ],
   "source": [
    "!pip3 install lxml"
   ]
  },
  {
   "cell_type": "markdown",
   "metadata": {},
   "source": [
    "#### The requests I will create a dataframe from the wiki and I will further clean the dataframe and ensure\n",
    "#### only those columns are present where neighborhood is not null."
   ]
  },
  {
   "cell_type": "code",
   "execution_count": 4,
   "metadata": {},
   "outputs": [
    {
     "data": {
      "text/html": [
       "<div>\n",
       "<style scoped>\n",
       "    .dataframe tbody tr th:only-of-type {\n",
       "        vertical-align: middle;\n",
       "    }\n",
       "\n",
       "    .dataframe tbody tr th {\n",
       "        vertical-align: top;\n",
       "    }\n",
       "\n",
       "    .dataframe thead th {\n",
       "        text-align: right;\n",
       "    }\n",
       "</style>\n",
       "<table border=\"1\" class=\"dataframe\">\n",
       "  <thead>\n",
       "    <tr style=\"text-align: right;\">\n",
       "      <th></th>\n",
       "      <th>index</th>\n",
       "      <th>Postal Code</th>\n",
       "      <th>Borough</th>\n",
       "      <th>Neighborhood</th>\n",
       "    </tr>\n",
       "  </thead>\n",
       "  <tbody>\n",
       "    <tr>\n",
       "      <th>0</th>\n",
       "      <td>2</td>\n",
       "      <td>M3A</td>\n",
       "      <td>North York</td>\n",
       "      <td>Parkwoods</td>\n",
       "    </tr>\n",
       "    <tr>\n",
       "      <th>1</th>\n",
       "      <td>3</td>\n",
       "      <td>M4A</td>\n",
       "      <td>North York</td>\n",
       "      <td>Victoria Village</td>\n",
       "    </tr>\n",
       "    <tr>\n",
       "      <th>2</th>\n",
       "      <td>4</td>\n",
       "      <td>M5A</td>\n",
       "      <td>Downtown Toronto</td>\n",
       "      <td>Regent Park, Harbourfront</td>\n",
       "    </tr>\n",
       "    <tr>\n",
       "      <th>3</th>\n",
       "      <td>5</td>\n",
       "      <td>M6A</td>\n",
       "      <td>North York</td>\n",
       "      <td>Lawrence Manor, Lawrence Heights</td>\n",
       "    </tr>\n",
       "    <tr>\n",
       "      <th>4</th>\n",
       "      <td>6</td>\n",
       "      <td>M7A</td>\n",
       "      <td>Downtown Toronto</td>\n",
       "      <td>Queen's Park, Ontario Provincial Government</td>\n",
       "    </tr>\n",
       "  </tbody>\n",
       "</table>\n",
       "</div>"
      ],
      "text/plain": [
       "   index Postal Code           Borough  \\\n",
       "0      2         M3A        North York   \n",
       "1      3         M4A        North York   \n",
       "2      4         M5A  Downtown Toronto   \n",
       "3      5         M6A        North York   \n",
       "4      6         M7A  Downtown Toronto   \n",
       "\n",
       "                                  Neighborhood  \n",
       "0                                    Parkwoods  \n",
       "1                             Victoria Village  \n",
       "2                    Regent Park, Harbourfront  \n",
       "3             Lawrence Manor, Lawrence Heights  \n",
       "4  Queen's Park, Ontario Provincial Government  "
      ]
     },
     "execution_count": 4,
     "metadata": {},
     "output_type": "execute_result"
    }
   ],
   "source": [
    "wiki_link = 'https://en.wikipedia.org/wiki/List_of_postal_codes_of_Canada:_M'\n",
    "wiki_page = requests.get(wiki_link)\n",
    "\n",
    "dataframe = pd.read_html(wiki_page.content, header = 0)[0]\n",
    "df = dataframe[dataframe.Neighborhood != 'Not assigned']\n",
    "df.reset_index(inplace = True)\n",
    "df.head()"
   ]
  },
  {
   "cell_type": "markdown",
   "metadata": {},
   "source": [
    "#### Group the postal code col using groupby function"
   ]
  },
  {
   "cell_type": "code",
   "execution_count": 5,
   "metadata": {},
   "outputs": [
    {
     "data": {
      "text/html": [
       "<div>\n",
       "<style scoped>\n",
       "    .dataframe tbody tr th:only-of-type {\n",
       "        vertical-align: middle;\n",
       "    }\n",
       "\n",
       "    .dataframe tbody tr th {\n",
       "        vertical-align: top;\n",
       "    }\n",
       "\n",
       "    .dataframe thead th {\n",
       "        text-align: right;\n",
       "    }\n",
       "</style>\n",
       "<table border=\"1\" class=\"dataframe\">\n",
       "  <thead>\n",
       "    <tr style=\"text-align: right;\">\n",
       "      <th></th>\n",
       "      <th>index</th>\n",
       "      <th>Borough</th>\n",
       "      <th>Neighborhood</th>\n",
       "    </tr>\n",
       "    <tr>\n",
       "      <th>Postal Code</th>\n",
       "      <th></th>\n",
       "      <th></th>\n",
       "      <th></th>\n",
       "    </tr>\n",
       "  </thead>\n",
       "  <tbody>\n",
       "    <tr>\n",
       "      <th>M1B</th>\n",
       "      <td>9</td>\n",
       "      <td>Scarborough</td>\n",
       "      <td>Malvern, Rouge</td>\n",
       "    </tr>\n",
       "    <tr>\n",
       "      <th>M1C</th>\n",
       "      <td>18</td>\n",
       "      <td>Scarborough</td>\n",
       "      <td>Rouge Hill, Port Union, Highland Creek</td>\n",
       "    </tr>\n",
       "    <tr>\n",
       "      <th>M1E</th>\n",
       "      <td>27</td>\n",
       "      <td>Scarborough</td>\n",
       "      <td>Guildwood, Morningside, West Hill</td>\n",
       "    </tr>\n",
       "    <tr>\n",
       "      <th>M1G</th>\n",
       "      <td>36</td>\n",
       "      <td>Scarborough</td>\n",
       "      <td>Woburn</td>\n",
       "    </tr>\n",
       "    <tr>\n",
       "      <th>M1H</th>\n",
       "      <td>45</td>\n",
       "      <td>Scarborough</td>\n",
       "      <td>Cedarbrae</td>\n",
       "    </tr>\n",
       "    <tr>\n",
       "      <th>...</th>\n",
       "      <td>...</td>\n",
       "      <td>...</td>\n",
       "      <td>...</td>\n",
       "    </tr>\n",
       "    <tr>\n",
       "      <th>M9N</th>\n",
       "      <td>98</td>\n",
       "      <td>York</td>\n",
       "      <td>Weston</td>\n",
       "    </tr>\n",
       "    <tr>\n",
       "      <th>M9P</th>\n",
       "      <td>107</td>\n",
       "      <td>Etobicoke</td>\n",
       "      <td>Westmount</td>\n",
       "    </tr>\n",
       "    <tr>\n",
       "      <th>M9R</th>\n",
       "      <td>116</td>\n",
       "      <td>Etobicoke</td>\n",
       "      <td>Kingsview Village, St. Phillips, Martin Grove ...</td>\n",
       "    </tr>\n",
       "    <tr>\n",
       "      <th>M9V</th>\n",
       "      <td>143</td>\n",
       "      <td>Etobicoke</td>\n",
       "      <td>South Steeles, Silverstone, Humbergate, Jamest...</td>\n",
       "    </tr>\n",
       "    <tr>\n",
       "      <th>M9W</th>\n",
       "      <td>152</td>\n",
       "      <td>Etobicoke</td>\n",
       "      <td>Northwest, West Humber - Clairville</td>\n",
       "    </tr>\n",
       "  </tbody>\n",
       "</table>\n",
       "<p>103 rows × 3 columns</p>\n",
       "</div>"
      ],
      "text/plain": [
       "             index      Borough  \\\n",
       "Postal Code                       \n",
       "M1B              9  Scarborough   \n",
       "M1C             18  Scarborough   \n",
       "M1E             27  Scarborough   \n",
       "M1G             36  Scarborough   \n",
       "M1H             45  Scarborough   \n",
       "...            ...          ...   \n",
       "M9N             98         York   \n",
       "M9P            107    Etobicoke   \n",
       "M9R            116    Etobicoke   \n",
       "M9V            143    Etobicoke   \n",
       "M9W            152    Etobicoke   \n",
       "\n",
       "                                                  Neighborhood  \n",
       "Postal Code                                                     \n",
       "M1B                                             Malvern, Rouge  \n",
       "M1C                     Rouge Hill, Port Union, Highland Creek  \n",
       "M1E                          Guildwood, Morningside, West Hill  \n",
       "M1G                                                     Woburn  \n",
       "M1H                                                  Cedarbrae  \n",
       "...                                                        ...  \n",
       "M9N                                                     Weston  \n",
       "M9P                                                  Westmount  \n",
       "M9R          Kingsview Village, St. Phillips, Martin Grove ...  \n",
       "M9V          South Steeles, Silverstone, Humbergate, Jamest...  \n",
       "M9W                        Northwest, West Humber - Clairville  \n",
       "\n",
       "[103 rows x 3 columns]"
      ]
     },
     "execution_count": 5,
     "metadata": {},
     "output_type": "execute_result"
    }
   ],
   "source": [
    "df.groupby(['Postal Code']).first()"
   ]
  },
  {
   "cell_type": "markdown",
   "metadata": {},
   "source": [
    "#### Display the shape of the dataframe."
   ]
  },
  {
   "cell_type": "code",
   "execution_count": 6,
   "metadata": {},
   "outputs": [
    {
     "data": {
      "text/plain": [
       "(103, 4)"
      ]
     },
     "execution_count": 6,
     "metadata": {},
     "output_type": "execute_result"
    }
   ],
   "source": [
    "df.shape"
   ]
  },
  {
   "cell_type": "markdown",
   "metadata": {},
   "source": [
    "# Part 2\n",
    "#### Use url to create a dataframe"
   ]
  },
  {
   "cell_type": "code",
   "execution_count": 7,
   "metadata": {},
   "outputs": [],
   "source": [
    "url = 'http://cocl.us/Geospatial_data'"
   ]
  },
  {
   "cell_type": "code",
   "execution_count": 8,
   "metadata": {},
   "outputs": [
    {
     "data": {
      "text/html": [
       "<div>\n",
       "<style scoped>\n",
       "    .dataframe tbody tr th:only-of-type {\n",
       "        vertical-align: middle;\n",
       "    }\n",
       "\n",
       "    .dataframe tbody tr th {\n",
       "        vertical-align: top;\n",
       "    }\n",
       "\n",
       "    .dataframe thead th {\n",
       "        text-align: right;\n",
       "    }\n",
       "</style>\n",
       "<table border=\"1\" class=\"dataframe\">\n",
       "  <thead>\n",
       "    <tr style=\"text-align: right;\">\n",
       "      <th></th>\n",
       "      <th>Postal Code</th>\n",
       "      <th>Latitude</th>\n",
       "      <th>Longitude</th>\n",
       "    </tr>\n",
       "  </thead>\n",
       "  <tbody>\n",
       "    <tr>\n",
       "      <th>0</th>\n",
       "      <td>M1B</td>\n",
       "      <td>43.806686</td>\n",
       "      <td>-79.194353</td>\n",
       "    </tr>\n",
       "    <tr>\n",
       "      <th>1</th>\n",
       "      <td>M1C</td>\n",
       "      <td>43.784535</td>\n",
       "      <td>-79.160497</td>\n",
       "    </tr>\n",
       "    <tr>\n",
       "      <th>2</th>\n",
       "      <td>M1E</td>\n",
       "      <td>43.763573</td>\n",
       "      <td>-79.188711</td>\n",
       "    </tr>\n",
       "    <tr>\n",
       "      <th>3</th>\n",
       "      <td>M1G</td>\n",
       "      <td>43.770992</td>\n",
       "      <td>-79.216917</td>\n",
       "    </tr>\n",
       "    <tr>\n",
       "      <th>4</th>\n",
       "      <td>M1H</td>\n",
       "      <td>43.773136</td>\n",
       "      <td>-79.239476</td>\n",
       "    </tr>\n",
       "  </tbody>\n",
       "</table>\n",
       "</div>"
      ],
      "text/plain": [
       "  Postal Code   Latitude  Longitude\n",
       "0         M1B  43.806686 -79.194353\n",
       "1         M1C  43.784535 -79.160497\n",
       "2         M1E  43.763573 -79.188711\n",
       "3         M1G  43.770992 -79.216917\n",
       "4         M1H  43.773136 -79.239476"
      ]
     },
     "execution_count": 8,
     "metadata": {},
     "output_type": "execute_result"
    }
   ],
   "source": [
    "df_geo = pd.read_csv(url)\n",
    "df_geo.head()\n"
   ]
  },
  {
   "cell_type": "markdown",
   "metadata": {},
   "source": [
    "#### Check the data type and shape of the df_geo dataframe"
   ]
  },
  {
   "cell_type": "code",
   "execution_count": 9,
   "metadata": {},
   "outputs": [
    {
     "name": "stdout",
     "output_type": "stream",
     "text": [
      "The data type of the df_geo is:  Postal Code     object\n",
      "Latitude       float64\n",
      "Longitude      float64\n",
      "dtype: object\n",
      "The shape of the dataframe is:  (103, 3)\n"
     ]
    }
   ],
   "source": [
    "print(\"The data type of the df_geo is: \",df_geo.dtypes)\n",
    "print(\"The shape of the dataframe is: \",df_geo.shape)"
   ]
  },
  {
   "cell_type": "markdown",
   "metadata": {},
   "source": [
    "#### Join the two dataframes i.e df and df_geo"
   ]
  },
  {
   "cell_type": "code",
   "execution_count": 10,
   "metadata": {},
   "outputs": [
    {
     "data": {
      "text/html": [
       "<div>\n",
       "<style scoped>\n",
       "    .dataframe tbody tr th:only-of-type {\n",
       "        vertical-align: middle;\n",
       "    }\n",
       "\n",
       "    .dataframe tbody tr th {\n",
       "        vertical-align: top;\n",
       "    }\n",
       "\n",
       "    .dataframe thead th {\n",
       "        text-align: right;\n",
       "    }\n",
       "</style>\n",
       "<table border=\"1\" class=\"dataframe\">\n",
       "  <thead>\n",
       "    <tr style=\"text-align: right;\">\n",
       "      <th></th>\n",
       "      <th>index</th>\n",
       "      <th>Postal Code</th>\n",
       "      <th>Borough</th>\n",
       "      <th>Neighborhood</th>\n",
       "      <th>Latitude</th>\n",
       "      <th>Longitude</th>\n",
       "    </tr>\n",
       "  </thead>\n",
       "  <tbody>\n",
       "    <tr>\n",
       "      <th>0</th>\n",
       "      <td>2</td>\n",
       "      <td>M3A</td>\n",
       "      <td>North York</td>\n",
       "      <td>Parkwoods</td>\n",
       "      <td>43.753259</td>\n",
       "      <td>-79.329656</td>\n",
       "    </tr>\n",
       "    <tr>\n",
       "      <th>1</th>\n",
       "      <td>3</td>\n",
       "      <td>M4A</td>\n",
       "      <td>North York</td>\n",
       "      <td>Victoria Village</td>\n",
       "      <td>43.725882</td>\n",
       "      <td>-79.315572</td>\n",
       "    </tr>\n",
       "    <tr>\n",
       "      <th>2</th>\n",
       "      <td>4</td>\n",
       "      <td>M5A</td>\n",
       "      <td>Downtown Toronto</td>\n",
       "      <td>Regent Park, Harbourfront</td>\n",
       "      <td>43.654260</td>\n",
       "      <td>-79.360636</td>\n",
       "    </tr>\n",
       "    <tr>\n",
       "      <th>3</th>\n",
       "      <td>5</td>\n",
       "      <td>M6A</td>\n",
       "      <td>North York</td>\n",
       "      <td>Lawrence Manor, Lawrence Heights</td>\n",
       "      <td>43.718518</td>\n",
       "      <td>-79.464763</td>\n",
       "    </tr>\n",
       "    <tr>\n",
       "      <th>4</th>\n",
       "      <td>6</td>\n",
       "      <td>M7A</td>\n",
       "      <td>Downtown Toronto</td>\n",
       "      <td>Queen's Park, Ontario Provincial Government</td>\n",
       "      <td>43.662301</td>\n",
       "      <td>-79.389494</td>\n",
       "    </tr>\n",
       "    <tr>\n",
       "      <th>...</th>\n",
       "      <td>...</td>\n",
       "      <td>...</td>\n",
       "      <td>...</td>\n",
       "      <td>...</td>\n",
       "      <td>...</td>\n",
       "      <td>...</td>\n",
       "    </tr>\n",
       "    <tr>\n",
       "      <th>98</th>\n",
       "      <td>160</td>\n",
       "      <td>M8X</td>\n",
       "      <td>Etobicoke</td>\n",
       "      <td>The Kingsway, Montgomery Road, Old Mill North</td>\n",
       "      <td>43.653654</td>\n",
       "      <td>-79.506944</td>\n",
       "    </tr>\n",
       "    <tr>\n",
       "      <th>99</th>\n",
       "      <td>165</td>\n",
       "      <td>M4Y</td>\n",
       "      <td>Downtown Toronto</td>\n",
       "      <td>Church and Wellesley</td>\n",
       "      <td>43.665860</td>\n",
       "      <td>-79.383160</td>\n",
       "    </tr>\n",
       "    <tr>\n",
       "      <th>100</th>\n",
       "      <td>168</td>\n",
       "      <td>M7Y</td>\n",
       "      <td>East Toronto</td>\n",
       "      <td>Business reply mail Processing Centre, South C...</td>\n",
       "      <td>43.662744</td>\n",
       "      <td>-79.321558</td>\n",
       "    </tr>\n",
       "    <tr>\n",
       "      <th>101</th>\n",
       "      <td>169</td>\n",
       "      <td>M8Y</td>\n",
       "      <td>Etobicoke</td>\n",
       "      <td>Old Mill South, King's Mill Park, Sunnylea, Hu...</td>\n",
       "      <td>43.636258</td>\n",
       "      <td>-79.498509</td>\n",
       "    </tr>\n",
       "    <tr>\n",
       "      <th>102</th>\n",
       "      <td>178</td>\n",
       "      <td>M8Z</td>\n",
       "      <td>Etobicoke</td>\n",
       "      <td>Mimico NW, The Queensway West, South of Bloor,...</td>\n",
       "      <td>43.628841</td>\n",
       "      <td>-79.520999</td>\n",
       "    </tr>\n",
       "  </tbody>\n",
       "</table>\n",
       "<p>103 rows × 6 columns</p>\n",
       "</div>"
      ],
      "text/plain": [
       "     index Postal Code           Borough  \\\n",
       "0        2         M3A        North York   \n",
       "1        3         M4A        North York   \n",
       "2        4         M5A  Downtown Toronto   \n",
       "3        5         M6A        North York   \n",
       "4        6         M7A  Downtown Toronto   \n",
       "..     ...         ...               ...   \n",
       "98     160         M8X         Etobicoke   \n",
       "99     165         M4Y  Downtown Toronto   \n",
       "100    168         M7Y      East Toronto   \n",
       "101    169         M8Y         Etobicoke   \n",
       "102    178         M8Z         Etobicoke   \n",
       "\n",
       "                                          Neighborhood   Latitude  Longitude  \n",
       "0                                            Parkwoods  43.753259 -79.329656  \n",
       "1                                     Victoria Village  43.725882 -79.315572  \n",
       "2                            Regent Park, Harbourfront  43.654260 -79.360636  \n",
       "3                     Lawrence Manor, Lawrence Heights  43.718518 -79.464763  \n",
       "4          Queen's Park, Ontario Provincial Government  43.662301 -79.389494  \n",
       "..                                                 ...        ...        ...  \n",
       "98       The Kingsway, Montgomery Road, Old Mill North  43.653654 -79.506944  \n",
       "99                                Church and Wellesley  43.665860 -79.383160  \n",
       "100  Business reply mail Processing Centre, South C...  43.662744 -79.321558  \n",
       "101  Old Mill South, King's Mill Park, Sunnylea, Hu...  43.636258 -79.498509  \n",
       "102  Mimico NW, The Queensway West, South of Bloor,...  43.628841 -79.520999  \n",
       "\n",
       "[103 rows x 6 columns]"
      ]
     },
     "execution_count": 10,
     "metadata": {},
     "output_type": "execute_result"
    }
   ],
   "source": [
    "df = df.join(df_geo.set_index('Postal Code'), on='Postal Code',how='left')\n",
    "df"
   ]
  },
  {
   "cell_type": "code",
   "execution_count": 11,
   "metadata": {},
   "outputs": [
    {
     "data": {
      "text/html": [
       "<div>\n",
       "<style scoped>\n",
       "    .dataframe tbody tr th:only-of-type {\n",
       "        vertical-align: middle;\n",
       "    }\n",
       "\n",
       "    .dataframe tbody tr th {\n",
       "        vertical-align: top;\n",
       "    }\n",
       "\n",
       "    .dataframe thead th {\n",
       "        text-align: right;\n",
       "    }\n",
       "</style>\n",
       "<table border=\"1\" class=\"dataframe\">\n",
       "  <thead>\n",
       "    <tr style=\"text-align: right;\">\n",
       "      <th></th>\n",
       "      <th>Postal Code</th>\n",
       "      <th>Borough</th>\n",
       "      <th>Neighborhood</th>\n",
       "      <th>Latitude</th>\n",
       "      <th>Longitude</th>\n",
       "    </tr>\n",
       "  </thead>\n",
       "  <tbody>\n",
       "    <tr>\n",
       "      <th>0</th>\n",
       "      <td>M3A</td>\n",
       "      <td>North York</td>\n",
       "      <td>Parkwoods</td>\n",
       "      <td>43.753259</td>\n",
       "      <td>-79.329656</td>\n",
       "    </tr>\n",
       "    <tr>\n",
       "      <th>1</th>\n",
       "      <td>M4A</td>\n",
       "      <td>North York</td>\n",
       "      <td>Victoria Village</td>\n",
       "      <td>43.725882</td>\n",
       "      <td>-79.315572</td>\n",
       "    </tr>\n",
       "    <tr>\n",
       "      <th>2</th>\n",
       "      <td>M5A</td>\n",
       "      <td>Downtown Toronto</td>\n",
       "      <td>Regent Park, Harbourfront</td>\n",
       "      <td>43.654260</td>\n",
       "      <td>-79.360636</td>\n",
       "    </tr>\n",
       "    <tr>\n",
       "      <th>3</th>\n",
       "      <td>M6A</td>\n",
       "      <td>North York</td>\n",
       "      <td>Lawrence Manor, Lawrence Heights</td>\n",
       "      <td>43.718518</td>\n",
       "      <td>-79.464763</td>\n",
       "    </tr>\n",
       "    <tr>\n",
       "      <th>4</th>\n",
       "      <td>M7A</td>\n",
       "      <td>Downtown Toronto</td>\n",
       "      <td>Queen's Park, Ontario Provincial Government</td>\n",
       "      <td>43.662301</td>\n",
       "      <td>-79.389494</td>\n",
       "    </tr>\n",
       "    <tr>\n",
       "      <th>...</th>\n",
       "      <td>...</td>\n",
       "      <td>...</td>\n",
       "      <td>...</td>\n",
       "      <td>...</td>\n",
       "      <td>...</td>\n",
       "    </tr>\n",
       "    <tr>\n",
       "      <th>98</th>\n",
       "      <td>M8X</td>\n",
       "      <td>Etobicoke</td>\n",
       "      <td>The Kingsway, Montgomery Road, Old Mill North</td>\n",
       "      <td>43.653654</td>\n",
       "      <td>-79.506944</td>\n",
       "    </tr>\n",
       "    <tr>\n",
       "      <th>99</th>\n",
       "      <td>M4Y</td>\n",
       "      <td>Downtown Toronto</td>\n",
       "      <td>Church and Wellesley</td>\n",
       "      <td>43.665860</td>\n",
       "      <td>-79.383160</td>\n",
       "    </tr>\n",
       "    <tr>\n",
       "      <th>100</th>\n",
       "      <td>M7Y</td>\n",
       "      <td>East Toronto</td>\n",
       "      <td>Business reply mail Processing Centre, South C...</td>\n",
       "      <td>43.662744</td>\n",
       "      <td>-79.321558</td>\n",
       "    </tr>\n",
       "    <tr>\n",
       "      <th>101</th>\n",
       "      <td>M8Y</td>\n",
       "      <td>Etobicoke</td>\n",
       "      <td>Old Mill South, King's Mill Park, Sunnylea, Hu...</td>\n",
       "      <td>43.636258</td>\n",
       "      <td>-79.498509</td>\n",
       "    </tr>\n",
       "    <tr>\n",
       "      <th>102</th>\n",
       "      <td>M8Z</td>\n",
       "      <td>Etobicoke</td>\n",
       "      <td>Mimico NW, The Queensway West, South of Bloor,...</td>\n",
       "      <td>43.628841</td>\n",
       "      <td>-79.520999</td>\n",
       "    </tr>\n",
       "  </tbody>\n",
       "</table>\n",
       "<p>103 rows × 5 columns</p>\n",
       "</div>"
      ],
      "text/plain": [
       "    Postal Code           Borough  \\\n",
       "0           M3A        North York   \n",
       "1           M4A        North York   \n",
       "2           M5A  Downtown Toronto   \n",
       "3           M6A        North York   \n",
       "4           M7A  Downtown Toronto   \n",
       "..          ...               ...   \n",
       "98          M8X         Etobicoke   \n",
       "99          M4Y  Downtown Toronto   \n",
       "100         M7Y      East Toronto   \n",
       "101         M8Y         Etobicoke   \n",
       "102         M8Z         Etobicoke   \n",
       "\n",
       "                                          Neighborhood   Latitude  Longitude  \n",
       "0                                            Parkwoods  43.753259 -79.329656  \n",
       "1                                     Victoria Village  43.725882 -79.315572  \n",
       "2                            Regent Park, Harbourfront  43.654260 -79.360636  \n",
       "3                     Lawrence Manor, Lawrence Heights  43.718518 -79.464763  \n",
       "4          Queen's Park, Ontario Provincial Government  43.662301 -79.389494  \n",
       "..                                                 ...        ...        ...  \n",
       "98       The Kingsway, Montgomery Road, Old Mill North  43.653654 -79.506944  \n",
       "99                                Church and Wellesley  43.665860 -79.383160  \n",
       "100  Business reply mail Processing Centre, South C...  43.662744 -79.321558  \n",
       "101  Old Mill South, King's Mill Park, Sunnylea, Hu...  43.636258 -79.498509  \n",
       "102  Mimico NW, The Queensway West, South of Bloor,...  43.628841 -79.520999  \n",
       "\n",
       "[103 rows x 5 columns]"
      ]
     },
     "execution_count": 11,
     "metadata": {},
     "output_type": "execute_result"
    }
   ],
   "source": [
    "df=df.drop(['index'],axis=1)\n",
    "df"
   ]
  },
  {
   "cell_type": "markdown",
   "metadata": {},
   "source": [
    "#### Install geocoder"
   ]
  },
  {
   "cell_type": "code",
   "execution_count": 13,
   "metadata": {},
   "outputs": [
    {
     "name": "stdout",
     "output_type": "stream",
     "text": [
      "Collecting geocoder\n",
      "  Downloading geocoder-1.38.1-py2.py3-none-any.whl (98 kB)\n",
      "Requirement already satisfied: six in c:\\users\\lenovo\\appdata\\local\\programs\\python\\python38\\lib\\site-packages (from geocoder) (1.15.0)\n",
      "Collecting ratelim\n",
      "  Downloading ratelim-0.1.6-py2.py3-none-any.whl (4.0 kB)\n",
      "Collecting future\n",
      "  Downloading future-0.18.2.tar.gz (829 kB)\n",
      "Requirement already satisfied: requests in c:\\users\\lenovo\\appdata\\local\\programs\\python\\python38\\lib\\site-packages (from geocoder) (2.24.0)\n",
      "Collecting click\n",
      "  Downloading click-7.1.2-py2.py3-none-any.whl (82 kB)\n",
      "Requirement already satisfied: decorator in c:\\users\\lenovo\\appdata\\local\\programs\\python\\python38\\lib\\site-packages (from ratelim->geocoder) (4.4.2)\n",
      "Requirement already satisfied: certifi>=2017.4.17 in c:\\users\\lenovo\\appdata\\local\\programs\\python\\python38\\lib\\site-packages (from requests->geocoder) (2020.6.20)\n",
      "Requirement already satisfied: urllib3!=1.25.0,!=1.25.1,<1.26,>=1.21.1 in c:\\users\\lenovo\\appdata\\local\\programs\\python\\python38\\lib\\site-packages (from requests->geocoder) (1.25.9)\n",
      "Requirement already satisfied: chardet<4,>=3.0.2 in c:\\users\\lenovo\\appdata\\local\\programs\\python\\python38\\lib\\site-packages (from requests->geocoder) (3.0.4)\n",
      "Requirement already satisfied: idna<3,>=2.5 in c:\\users\\lenovo\\appdata\\local\\programs\\python\\python38\\lib\\site-packages (from requests->geocoder) (2.10)\n",
      "Using legacy setup.py install for future, since package 'wheel' is not installed.\n",
      "Installing collected packages: ratelim, future, click, geocoder\n",
      "    Running setup.py install for future: started\n",
      "    Running setup.py install for future: finished with status 'done'\n",
      "Successfully installed click-7.1.2 future-0.18.2 geocoder-1.38.1 ratelim-0.1.6\n"
     ]
    }
   ],
   "source": [
    "! pip install geocoder"
   ]
  },
  {
   "cell_type": "markdown",
   "metadata": {},
   "source": [
    "#### Install geopy"
   ]
  },
  {
   "cell_type": "code",
   "execution_count": 17,
   "metadata": {},
   "outputs": [
    {
     "name": "stdout",
     "output_type": "stream",
     "text": [
      "Requirement already satisfied: geopy in c:\\users\\lenovo\\appdata\\local\\programs\\python\\python38\\lib\\site-packages (2.0.0)\n",
      "Requirement already satisfied: geographiclib<2,>=1.49 in c:\\users\\lenovo\\appdata\\local\\programs\\python\\python38\\lib\\site-packages (from geopy) (1.50)\n"
     ]
    }
   ],
   "source": [
    "!pip3 install geopy"
   ]
  },
  {
   "cell_type": "code",
   "execution_count": 22,
   "metadata": {},
   "outputs": [],
   "source": [
    "import folium\n",
    "import geocoder\n",
    "from geopy.geocoders import Nominatim "
   ]
  },
  {
   "cell_type": "code",
   "execution_count": 21,
   "metadata": {},
   "outputs": [
    {
     "name": "stdout",
     "output_type": "stream",
     "text": [
      "Collecting folium\n",
      "  Downloading folium-0.11.0-py2.py3-none-any.whl (93 kB)\n",
      "Requirement already satisfied: numpy in c:\\users\\lenovo\\appdata\\local\\programs\\python\\python38\\lib\\site-packages (from folium) (1.19.0)\n",
      "Collecting branca>=0.3.0\n",
      "  Downloading branca-0.4.1-py3-none-any.whl (24 kB)\n",
      "Requirement already satisfied: jinja2>=2.9 in c:\\users\\lenovo\\appdata\\local\\programs\\python\\python38\\lib\\site-packages (from folium) (2.11.2)\n",
      "Requirement already satisfied: requests in c:\\users\\lenovo\\appdata\\local\\programs\\python\\python38\\lib\\site-packages (from folium) (2.24.0)\n",
      "Requirement already satisfied: MarkupSafe>=0.23 in c:\\users\\lenovo\\appdata\\local\\programs\\python\\python38\\lib\\site-packages (from jinja2>=2.9->folium) (1.1.1)\n",
      "Requirement already satisfied: chardet<4,>=3.0.2 in c:\\users\\lenovo\\appdata\\local\\programs\\python\\python38\\lib\\site-packages (from requests->folium) (3.0.4)\n",
      "Requirement already satisfied: certifi>=2017.4.17 in c:\\users\\lenovo\\appdata\\local\\programs\\python\\python38\\lib\\site-packages (from requests->folium) (2020.6.20)\n",
      "Requirement already satisfied: urllib3!=1.25.0,!=1.25.1,<1.26,>=1.21.1 in c:\\users\\lenovo\\appdata\\local\\programs\\python\\python38\\lib\\site-packages (from requests->folium) (1.25.9)\n",
      "Requirement already satisfied: idna<3,>=2.5 in c:\\users\\lenovo\\appdata\\local\\programs\\python\\python38\\lib\\site-packages (from requests->folium) (2.10)\n",
      "Installing collected packages: branca, folium\n",
      "Successfully installed branca-0.4.1 folium-0.11.0\n"
     ]
    }
   ],
   "source": [
    "!pip install folium"
   ]
  },
  {
   "cell_type": "markdown",
   "metadata": {},
   "source": [
    "#### Get the coordinates values of Toronto "
   ]
  },
  {
   "cell_type": "code",
   "execution_count": 23,
   "metadata": {},
   "outputs": [
    {
     "name": "stdout",
     "output_type": "stream",
     "text": [
      "The coordinate of Toronto are 43.6534817, -79.3839347.\n"
     ]
    }
   ],
   "source": [
    "add = 'Toronto'\n",
    "\n",
    "geolocator = Nominatim(user_agent=\"toronto_explorer\")\n",
    "location = geolocator.geocode(add)\n",
    "latitude = location.latitude\n",
    "longitude= location.longitude\n",
    "print('The coordinate of Toronto are {}, {}.'.format(latitude, longitude))"
   ]
  },
  {
   "cell_type": "markdown",
   "metadata": {},
   "source": [
    "#### Map the neightbourhood of Toronto "
   ]
  },
  {
   "cell_type": "code",
   "execution_count": 24,
   "metadata": {},
   "outputs": [
    {
     "data": {
      "text/html": [
       "<div style=\"width:100%;\"><div style=\"position:relative;width:100%;height:0;padding-bottom:60%;\"><span style=\"color:#565656\">Make this Notebook Trusted to load map: File -> Trust Notebook</span><iframe src=\"about:blank\" style=\"position:absolute;width:100%;height:100%;left:0;top:0;border:none !important;\" data-html=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 onload=\"this.contentDocument.open();this.contentDocument.write(atob(this.getAttribute('data-html')));this.contentDocument.close();\" allowfullscreen webkitallowfullscreen mozallowfullscreen></iframe></div></div>"
      ],
      "text/plain": [
       "<folium.folium.Map at 0x2035cfcb310>"
      ]
     },
     "execution_count": 24,
     "metadata": {},
     "output_type": "execute_result"
    }
   ],
   "source": [
    "#Define the coordinates of toronto\n",
    "Map= folium.Map(location=[latitude, longitude], zoom_start=10)\n",
    "\n",
    "# add markers to map\n",
    "for lat, lng, borough, neighborhood in zip(df['Latitude'], df['Longitude'], df['Borough'], df['Neighborhood']):\n",
    "    label = '{}, {}'.format(neighborhood, borough)\n",
    "    label = folium.Popup(label, parse_html=True)\n",
    "    folium.CircleMarker(\n",
    "        [lat, lng],\n",
    "        radius=4,\n",
    "        popup=label,\n",
    "        color='green',\n",
    "        fill=True,\n",
    "        fill_color='red',\n",
    "        fill_opacity=0.5).add_to(Map)  \n",
    "    \n",
    "Map"
   ]
  },
  {
   "cell_type": "markdown",
   "metadata": {},
   "source": [
    "#### Filter the borough that contains only toronto"
   ]
  },
  {
   "cell_type": "code",
   "execution_count": 25,
   "metadata": {},
   "outputs": [
    {
     "data": {
      "text/plain": [
       "['Downtown Toronto', 'East Toronto', 'West Toronto', 'Central Toronto']"
      ]
     },
     "execution_count": 25,
     "metadata": {},
     "output_type": "execute_result"
    }
   ],
   "source": [
    "#Empty list\n",
    "\n",
    "List_toronto = []\n",
    "#Parse the borough column\n",
    "\n",
    "for x in df['Borough'].unique():\n",
    "    if \"Toronto\" in x:\n",
    "        List_toronto.append(x)\n",
    "        \n",
    "List_toronto"
   ]
  },
  {
   "cell_type": "markdown",
   "metadata": {},
   "source": [
    "#### Create a new dataframe with only toronto name"
   ]
  },
  {
   "cell_type": "code",
   "execution_count": 26,
   "metadata": {},
   "outputs": [
    {
     "data": {
      "text/html": [
       "<div>\n",
       "<style scoped>\n",
       "    .dataframe tbody tr th:only-of-type {\n",
       "        vertical-align: middle;\n",
       "    }\n",
       "\n",
       "    .dataframe tbody tr th {\n",
       "        vertical-align: top;\n",
       "    }\n",
       "\n",
       "    .dataframe thead th {\n",
       "        text-align: right;\n",
       "    }\n",
       "</style>\n",
       "<table border=\"1\" class=\"dataframe\">\n",
       "  <thead>\n",
       "    <tr style=\"text-align: right;\">\n",
       "      <th></th>\n",
       "      <th>Postal Code</th>\n",
       "      <th>Borough</th>\n",
       "      <th>Neighborhood</th>\n",
       "      <th>Latitude</th>\n",
       "      <th>Longitude</th>\n",
       "    </tr>\n",
       "  </thead>\n",
       "  <tbody>\n",
       "    <tr>\n",
       "      <th>0</th>\n",
       "      <td>M5A</td>\n",
       "      <td>Downtown Toronto</td>\n",
       "      <td>Regent Park, Harbourfront</td>\n",
       "      <td>43.654260</td>\n",
       "      <td>-79.360636</td>\n",
       "    </tr>\n",
       "    <tr>\n",
       "      <th>1</th>\n",
       "      <td>M7A</td>\n",
       "      <td>Downtown Toronto</td>\n",
       "      <td>Queen's Park, Ontario Provincial Government</td>\n",
       "      <td>43.662301</td>\n",
       "      <td>-79.389494</td>\n",
       "    </tr>\n",
       "    <tr>\n",
       "      <th>2</th>\n",
       "      <td>M5B</td>\n",
       "      <td>Downtown Toronto</td>\n",
       "      <td>Garden District, Ryerson</td>\n",
       "      <td>43.657162</td>\n",
       "      <td>-79.378937</td>\n",
       "    </tr>\n",
       "    <tr>\n",
       "      <th>3</th>\n",
       "      <td>M5C</td>\n",
       "      <td>Downtown Toronto</td>\n",
       "      <td>St. James Town</td>\n",
       "      <td>43.651494</td>\n",
       "      <td>-79.375418</td>\n",
       "    </tr>\n",
       "    <tr>\n",
       "      <th>4</th>\n",
       "      <td>M4E</td>\n",
       "      <td>East Toronto</td>\n",
       "      <td>The Beaches</td>\n",
       "      <td>43.676357</td>\n",
       "      <td>-79.293031</td>\n",
       "    </tr>\n",
       "  </tbody>\n",
       "</table>\n",
       "</div>"
      ],
      "text/plain": [
       "  Postal Code           Borough                                 Neighborhood  \\\n",
       "0         M5A  Downtown Toronto                    Regent Park, Harbourfront   \n",
       "1         M7A  Downtown Toronto  Queen's Park, Ontario Provincial Government   \n",
       "2         M5B  Downtown Toronto                     Garden District, Ryerson   \n",
       "3         M5C  Downtown Toronto                               St. James Town   \n",
       "4         M4E      East Toronto                                  The Beaches   \n",
       "\n",
       "    Latitude  Longitude  \n",
       "0  43.654260 -79.360636  \n",
       "1  43.662301 -79.389494  \n",
       "2  43.657162 -79.378937  \n",
       "3  43.651494 -79.375418  \n",
       "4  43.676357 -79.293031  "
      ]
     },
     "execution_count": 26,
     "metadata": {},
     "output_type": "execute_result"
    }
   ],
   "source": [
    "df_toronto = df[df['Borough'].isin(List_toronto)].reset_index(drop=True)\n",
    "\n",
    "df_toronto.head()\n"
   ]
  },
  {
   "cell_type": "markdown",
   "metadata": {},
   "source": [
    "#### Using Foursquare API to explore neighbourhood"
   ]
  },
  {
   "cell_type": "code",
   "execution_count": 27,
   "metadata": {},
   "outputs": [
    {
     "name": "stdout",
     "output_type": "stream",
     "text": [
      "Your credentails:\n",
      "CLIENT_ID: DW220BXCDDO5FKMQZOQGOZFESKLZCXS4UMC0YEZVMZHDY0TV\n",
      "CLIENT_SECRET:R3KKZUGFGGVINYKNATLIGVZ5RIUG1UIXJZYB3LKX4TZI5RPJ\n"
     ]
    }
   ],
   "source": [
    "# define Foursquare Credentials and Version\n",
    "CLIENT_ID = 'DW220BXCDDO5FKMQZOQGOZFESKLZCXS4UMC0YEZVMZHDY0TV' # your Foursquare ID\n",
    "CLIENT_SECRET = 'R3KKZUGFGGVINYKNATLIGVZ5RIUG1UIXJZYB3LKX4TZI5RPJ' # your Foursquare Secret\n",
    "VERSION = '20180605' # Foursquare API version\n",
    "\n",
    "print('Your credentails:')\n",
    "print('CLIENT_ID: ' + CLIENT_ID)\n",
    "print('CLIENT_SECRET:' + CLIENT_SECRET)"
   ]
  },
  {
   "cell_type": "markdown",
   "metadata": {},
   "source": [
    "#### Let explore and get top 150 locations with a radius of 700 meters"
   ]
  },
  {
   "cell_type": "code",
   "execution_count": 28,
   "metadata": {},
   "outputs": [],
   "source": [
    "radius = 700\n",
    "LIMIT = 150\n",
    "\n",
    "venues = []\n",
    "\n",
    "for lat, long, post, borough, neighborhood in zip(df_toronto['Latitude'], df_toronto['Longitude'],df_toronto['Postal Code'], df_toronto['Borough'],df_toronto['Neighborhood']):\n",
    "    url = \"https://api.foursquare.com/v2/venues/explore?client_id={}&client_secret={}&v={}&ll={},{}&radius={}&limit={}\".format(\n",
    "        CLIENT_ID,\n",
    "        CLIENT_SECRET,\n",
    "        VERSION,\n",
    "        lat,\n",
    "        long,\n",
    "        radius, \n",
    "        LIMIT)\n",
    "    \n",
    "    results = requests.get(url).json()[\"response\"]['groups'][0]['items']\n",
    "    \n",
    "    for venue in results:\n",
    "        venues.append((\n",
    "            post, \n",
    "            borough,\n",
    "            neighborhood,\n",
    "            lat, \n",
    "            long, \n",
    "            venue['venue']['name'], \n",
    "            venue['venue']['location']['lat'], \n",
    "            venue['venue']['location']['lng'],  \n",
    "            venue['venue']['categories'][0]['name']))\n",
    "    results"
   ]
  },
  {
   "cell_type": "code",
   "execution_count": 29,
   "metadata": {},
   "outputs": [
    {
     "name": "stdout",
     "output_type": "stream",
     "text": [
      "(2491, 9)\n"
     ]
    },
    {
     "data": {
      "text/html": [
       "<div>\n",
       "<style scoped>\n",
       "    .dataframe tbody tr th:only-of-type {\n",
       "        vertical-align: middle;\n",
       "    }\n",
       "\n",
       "    .dataframe tbody tr th {\n",
       "        vertical-align: top;\n",
       "    }\n",
       "\n",
       "    .dataframe thead th {\n",
       "        text-align: right;\n",
       "    }\n",
       "</style>\n",
       "<table border=\"1\" class=\"dataframe\">\n",
       "  <thead>\n",
       "    <tr style=\"text-align: right;\">\n",
       "      <th></th>\n",
       "      <th>PostalCode</th>\n",
       "      <th>Borough</th>\n",
       "      <th>Neighborhood</th>\n",
       "      <th>BoroughLatitude</th>\n",
       "      <th>BoroughLongitude</th>\n",
       "      <th>VenueName</th>\n",
       "      <th>VenueLatitude</th>\n",
       "      <th>VenueLongitude</th>\n",
       "      <th>VenueCategory</th>\n",
       "    </tr>\n",
       "  </thead>\n",
       "  <tbody>\n",
       "    <tr>\n",
       "      <th>0</th>\n",
       "      <td>M5A</td>\n",
       "      <td>Downtown Toronto</td>\n",
       "      <td>Regent Park, Harbourfront</td>\n",
       "      <td>43.654260</td>\n",
       "      <td>-79.360636</td>\n",
       "      <td>Roselle Desserts</td>\n",
       "      <td>43.653447</td>\n",
       "      <td>-79.362017</td>\n",
       "      <td>Bakery</td>\n",
       "    </tr>\n",
       "    <tr>\n",
       "      <th>1</th>\n",
       "      <td>M5A</td>\n",
       "      <td>Downtown Toronto</td>\n",
       "      <td>Regent Park, Harbourfront</td>\n",
       "      <td>43.654260</td>\n",
       "      <td>-79.360636</td>\n",
       "      <td>Tandem Coffee</td>\n",
       "      <td>43.653559</td>\n",
       "      <td>-79.361809</td>\n",
       "      <td>Coffee Shop</td>\n",
       "    </tr>\n",
       "    <tr>\n",
       "      <th>2</th>\n",
       "      <td>M5A</td>\n",
       "      <td>Downtown Toronto</td>\n",
       "      <td>Regent Park, Harbourfront</td>\n",
       "      <td>43.654260</td>\n",
       "      <td>-79.360636</td>\n",
       "      <td>Cooper Koo Family YMCA</td>\n",
       "      <td>43.653249</td>\n",
       "      <td>-79.358008</td>\n",
       "      <td>Distribution Center</td>\n",
       "    </tr>\n",
       "    <tr>\n",
       "      <th>3</th>\n",
       "      <td>M5A</td>\n",
       "      <td>Downtown Toronto</td>\n",
       "      <td>Regent Park, Harbourfront</td>\n",
       "      <td>43.654260</td>\n",
       "      <td>-79.360636</td>\n",
       "      <td>Impact Kitchen</td>\n",
       "      <td>43.656369</td>\n",
       "      <td>-79.356980</td>\n",
       "      <td>Restaurant</td>\n",
       "    </tr>\n",
       "    <tr>\n",
       "      <th>4</th>\n",
       "      <td>M5A</td>\n",
       "      <td>Downtown Toronto</td>\n",
       "      <td>Regent Park, Harbourfront</td>\n",
       "      <td>43.654260</td>\n",
       "      <td>-79.360636</td>\n",
       "      <td>Corktown Common</td>\n",
       "      <td>43.655618</td>\n",
       "      <td>-79.356211</td>\n",
       "      <td>Park</td>\n",
       "    </tr>\n",
       "    <tr>\n",
       "      <th>...</th>\n",
       "      <td>...</td>\n",
       "      <td>...</td>\n",
       "      <td>...</td>\n",
       "      <td>...</td>\n",
       "      <td>...</td>\n",
       "      <td>...</td>\n",
       "      <td>...</td>\n",
       "      <td>...</td>\n",
       "      <td>...</td>\n",
       "    </tr>\n",
       "    <tr>\n",
       "      <th>2486</th>\n",
       "      <td>M7Y</td>\n",
       "      <td>East Toronto</td>\n",
       "      <td>Business reply mail Processing Centre, South C...</td>\n",
       "      <td>43.662744</td>\n",
       "      <td>-79.321558</td>\n",
       "      <td>TTC Leslie Barns</td>\n",
       "      <td>43.657633</td>\n",
       "      <td>-79.325212</td>\n",
       "      <td>Light Rail Station</td>\n",
       "    </tr>\n",
       "    <tr>\n",
       "      <th>2487</th>\n",
       "      <td>M7Y</td>\n",
       "      <td>East Toronto</td>\n",
       "      <td>Business reply mail Processing Centre, South C...</td>\n",
       "      <td>43.662744</td>\n",
       "      <td>-79.321558</td>\n",
       "      <td>TH&amp;SC Toronto Hydroplane &amp; Sailing Club</td>\n",
       "      <td>43.660255</td>\n",
       "      <td>-79.314089</td>\n",
       "      <td>Harbor / Marina</td>\n",
       "    </tr>\n",
       "    <tr>\n",
       "      <th>2488</th>\n",
       "      <td>M7Y</td>\n",
       "      <td>East Toronto</td>\n",
       "      <td>Business reply mail Processing Centre, South C...</td>\n",
       "      <td>43.662744</td>\n",
       "      <td>-79.321558</td>\n",
       "      <td>Balmy Beach Canoe Club</td>\n",
       "      <td>43.661104</td>\n",
       "      <td>-79.313564</td>\n",
       "      <td>Harbor / Marina</td>\n",
       "    </tr>\n",
       "    <tr>\n",
       "      <th>2489</th>\n",
       "      <td>M7Y</td>\n",
       "      <td>East Toronto</td>\n",
       "      <td>Business reply mail Processing Centre, South C...</td>\n",
       "      <td>43.662744</td>\n",
       "      <td>-79.321558</td>\n",
       "      <td>It's the Icing on the Cake</td>\n",
       "      <td>43.663453</td>\n",
       "      <td>-79.329813</td>\n",
       "      <td>Bakery</td>\n",
       "    </tr>\n",
       "    <tr>\n",
       "      <th>2490</th>\n",
       "      <td>M7Y</td>\n",
       "      <td>East Toronto</td>\n",
       "      <td>Business reply mail Processing Centre, South C...</td>\n",
       "      <td>43.662744</td>\n",
       "      <td>-79.321558</td>\n",
       "      <td>TTC Stop #03057</td>\n",
       "      <td>43.663314</td>\n",
       "      <td>-79.330099</td>\n",
       "      <td>Light Rail Station</td>\n",
       "    </tr>\n",
       "  </tbody>\n",
       "</table>\n",
       "<p>2491 rows × 9 columns</p>\n",
       "</div>"
      ],
      "text/plain": [
       "     PostalCode           Borough  \\\n",
       "0           M5A  Downtown Toronto   \n",
       "1           M5A  Downtown Toronto   \n",
       "2           M5A  Downtown Toronto   \n",
       "3           M5A  Downtown Toronto   \n",
       "4           M5A  Downtown Toronto   \n",
       "...         ...               ...   \n",
       "2486        M7Y      East Toronto   \n",
       "2487        M7Y      East Toronto   \n",
       "2488        M7Y      East Toronto   \n",
       "2489        M7Y      East Toronto   \n",
       "2490        M7Y      East Toronto   \n",
       "\n",
       "                                           Neighborhood  BoroughLatitude  \\\n",
       "0                             Regent Park, Harbourfront        43.654260   \n",
       "1                             Regent Park, Harbourfront        43.654260   \n",
       "2                             Regent Park, Harbourfront        43.654260   \n",
       "3                             Regent Park, Harbourfront        43.654260   \n",
       "4                             Regent Park, Harbourfront        43.654260   \n",
       "...                                                 ...              ...   \n",
       "2486  Business reply mail Processing Centre, South C...        43.662744   \n",
       "2487  Business reply mail Processing Centre, South C...        43.662744   \n",
       "2488  Business reply mail Processing Centre, South C...        43.662744   \n",
       "2489  Business reply mail Processing Centre, South C...        43.662744   \n",
       "2490  Business reply mail Processing Centre, South C...        43.662744   \n",
       "\n",
       "      BoroughLongitude                                VenueName  \\\n",
       "0           -79.360636                         Roselle Desserts   \n",
       "1           -79.360636                            Tandem Coffee   \n",
       "2           -79.360636                   Cooper Koo Family YMCA   \n",
       "3           -79.360636                           Impact Kitchen   \n",
       "4           -79.360636                          Corktown Common   \n",
       "...                ...                                      ...   \n",
       "2486        -79.321558                         TTC Leslie Barns   \n",
       "2487        -79.321558  TH&SC Toronto Hydroplane & Sailing Club   \n",
       "2488        -79.321558                   Balmy Beach Canoe Club   \n",
       "2489        -79.321558               It's the Icing on the Cake   \n",
       "2490        -79.321558                          TTC Stop #03057   \n",
       "\n",
       "      VenueLatitude  VenueLongitude        VenueCategory  \n",
       "0         43.653447      -79.362017               Bakery  \n",
       "1         43.653559      -79.361809          Coffee Shop  \n",
       "2         43.653249      -79.358008  Distribution Center  \n",
       "3         43.656369      -79.356980           Restaurant  \n",
       "4         43.655618      -79.356211                 Park  \n",
       "...             ...             ...                  ...  \n",
       "2486      43.657633      -79.325212   Light Rail Station  \n",
       "2487      43.660255      -79.314089      Harbor / Marina  \n",
       "2488      43.661104      -79.313564      Harbor / Marina  \n",
       "2489      43.663453      -79.329813               Bakery  \n",
       "2490      43.663314      -79.330099   Light Rail Station  \n",
       "\n",
       "[2491 rows x 9 columns]"
      ]
     },
     "execution_count": 29,
     "metadata": {},
     "output_type": "execute_result"
    }
   ],
   "source": [
    "# convert the venues list into a new DataFrame\n",
    "df_venues = pd.DataFrame(venues)\n",
    "\n",
    "\n",
    "df_venues.columns = ['PostalCode', 'Borough', 'Neighborhood', 'BoroughLatitude', 'BoroughLongitude', 'VenueName', 'VenueLatitude', 'VenueLongitude', 'VenueCategory']\n",
    "\n",
    "print(df_venues.shape)\n",
    "df_venues"
   ]
  },
  {
   "cell_type": "markdown",
   "metadata": {},
   "source": [
    "#### PLOT A BAR GRAPH TO CALCULATE THE NUMBER OF RESTAURANT,BAKERY,DESSERT SHOPS,COFFEE SHOPS,CHOCOLATE SHOPS ARE PRESENT IN THE NEIGHBOURHOOD"
   ]
  },
  {
   "cell_type": "code",
   "execution_count": 51,
   "metadata": {},
   "outputs": [
    {
     "data": {
      "image/png": "[encoded data removed]",
      "text/plain": [
       "<Figure size 432x288 with 1 Axes>"
      ]
     },
     "metadata": {
      "needs_background": "light"
     },
     "output_type": "display_data"
    }
   ],
   "source": [
    "import matplotlib.pyplot as plt\n",
    "fig = plt.figure()\n",
    "ax = fig.add_axes([0,0,1,1])\n",
    "shops = ['Restaurant', 'Bakery', 'Dessert Shop', 'Chocolate Shop', 'Coffee Shop']\n",
    "number = [(df_venues.VenueCategory=='Restaurant').sum(),\n",
    "          (df_venues.VenueCategory=='Bakery').sum(),\n",
    "          (df_venues.VenueCategory=='Dessert Shop').sum(),\n",
    "          (df_venues.VenueCategory=='Chocolate Shop').sum(),\n",
    "          (df_venues.VenueCategory=='Coffee Shop').sum()]\n",
    "ax.bar(shops,number)\n",
    "plt.show()"
   ]
  },
  {
   "cell_type": "code",
   "execution_count": 48,
   "metadata": {},
   "outputs": [
    {
     "name": "stdout",
     "output_type": "stream",
     "text": [
      "Collecting matplotlib\n",
      "  Downloading matplotlib-3.2.2-cp38-cp38-win_amd64.whl (9.2 MB)\n",
      "Collecting cycler>=0.10\n",
      "  Downloading cycler-0.10.0-py2.py3-none-any.whl (6.5 kB)\n",
      "Requirement already satisfied: pyparsing!=2.0.4,!=2.1.2,!=2.1.6,>=2.0.1 in c:\\users\\lenovo\\appdata\\local\\programs\\python\\python38\\lib\\site-packages (from matplotlib) (2.4.7)\n",
      "Requirement already satisfied: python-dateutil>=2.1 in c:\\users\\lenovo\\appdata\\local\\programs\\python\\python38\\lib\\site-packages (from matplotlib) (2.8.1)\n",
      "Requirement already satisfied: numpy>=1.11 in c:\\users\\lenovo\\appdata\\local\\programs\\python\\python38\\lib\\site-packages (from matplotlib) (1.19.0)\n",
      "Collecting kiwisolver>=1.0.1\n",
      "  Downloading kiwisolver-1.2.0-cp38-none-win_amd64.whl (58 kB)\n",
      "Requirement already satisfied: six in c:\\users\\lenovo\\appdata\\local\\programs\\python\\python38\\lib\\site-packages (from cycler>=0.10->matplotlib) (1.15.0)\n",
      "Installing collected packages: cycler, kiwisolver, matplotlib\n",
      "Successfully installed cycler-0.10.0 kiwisolver-1.2.0 matplotlib-3.2.2\n"
     ]
    }
   ],
   "source": [
    "!pip install matplotlib"
   ]
  },
  {
   "cell_type": "markdown",
   "metadata": {},
   "source": [
    "#### Create a list that contains all the shops present in the neighbourhood"
   ]
  },
  {
   "cell_type": "code",
   "execution_count": 68,
   "metadata": {},
   "outputs": [
    {
     "name": "stdout",
     "output_type": "stream",
     "text": [
      "['Coffee Shop', 'Coffee Shop', 'Dessert Shop', 'Coffee Shop', 'Chocolate Shop', 'Coffee Shop', 'Coffee Shop', 'Coffee Shop', 'Coffee Shop', 'Ice Cream Shop', 'Coffee Shop', 'Cosmetics Shop', 'Coffee Shop', 'Coffee Shop', 'Wine Shop', 'Coffee Shop', 'Antique Shop', 'Coffee Shop', 'Coffee Shop', 'Bubble Tea Shop', 'Coffee Shop', 'Coffee Shop', 'Coffee Shop', 'Coffee Shop', 'Hobby Shop', 'Coffee Shop', 'Coffee Shop', 'Coffee Shop', 'Smoothie Shop', 'Coffee Shop', 'Coffee Shop', 'Coffee Shop', 'Coffee Shop', 'Coffee Shop', 'Comic Shop', 'Shopping Mall', 'Coffee Shop', 'Miscellaneous Shop', 'Cosmetics Shop', 'Cosmetics Shop', 'Bubble Tea Shop', 'Coffee Shop', 'Coffee Shop', 'Dessert Shop', 'Coffee Shop', 'Coffee Shop', 'Bubble Tea Shop', 'Coffee Shop', 'Coffee Shop', 'Coffee Shop', 'Coffee Shop', 'Coffee Shop', 'Cosmetics Shop', 'Coffee Shop', 'Ice Cream Shop', 'Coffee Shop', 'Tailor Shop', 'Cosmetics Shop', 'Cosmetics Shop', 'Coffee Shop', 'Coffee Shop', 'Shopping Mall', 'Coffee Shop', 'Ice Cream Shop', 'Bagel Shop', 'Coffee Shop', 'Cheese Shop', 'Coffee Shop', 'Tailor Shop', 'Coffee Shop', 'Sporting Goods Shop', 'Cheese Shop', 'Cheese Shop', 'Coffee Shop', 'Cosmetics Shop', 'Coffee Shop', 'Gourmet Shop', 'Optical Shop', 'Bagel Shop', 'Coffee Shop', 'Coffee Shop', 'Antique Shop', 'Coffee Shop', 'Coffee Shop', 'Coffee Shop', 'Coffee Shop', 'Coffee Shop', 'Bubble Tea Shop', 'Miscellaneous Shop', 'Comic Shop', 'Coffee Shop', 'Coffee Shop', 'Coffee Shop', 'Dessert Shop', 'Shopping Mall', 'Coffee Shop', 'Hobby Shop', 'Ice Cream Shop', 'Donut Shop', 'Coffee Shop', 'Bubble Tea Shop', 'Coffee Shop', 'Gift Shop', 'Coffee Shop', 'Coffee Shop', 'Coffee Shop', 'Coffee Shop', 'Coffee Shop', 'Coffee Shop', 'Coffee Shop', 'Coffee Shop', 'Smoke Shop', 'Coffee Shop', 'Coffee Shop', 'Ice Cream Shop', 'Cosmetics Shop', 'Coffee Shop', 'Coffee Shop', 'Cosmetics Shop', 'Shopping Mall', 'Souvlaki Shop', 'Coffee Shop', 'Bubble Tea Shop', 'Miscellaneous Shop', 'Coffee Shop', 'Smoothie Shop', 'Coffee Shop', 'Coffee Shop', 'Sporting Goods Shop', 'Ice Cream Shop', 'Smoke Shop', 'Dessert Shop', 'Sporting Goods Shop', 'Ice Cream Shop', 'Bubble Tea Shop', 'Coffee Shop', 'Coffee Shop', 'Coffee Shop', 'Coffee Shop', 'Coffee Shop', 'Coffee Shop', 'Coffee Shop', 'Coffee Shop', 'Coffee Shop', 'Coffee Shop', 'Ice Cream Shop', 'Record Shop', 'Coffee Shop', 'Cupcake Shop', 'Miscellaneous Shop', 'Gift Shop', 'Gift Shop', 'Coffee Shop', 'Coffee Shop', 'Cosmetics Shop', 'Ice Cream Shop', 'Ice Cream Shop', 'Dessert Shop', 'Bubble Tea Shop', 'Coffee Shop', 'Coffee Shop', 'Frozen Yogurt Shop', 'Coffee Shop', 'Coffee Shop', 'Fish & Chips Shop', 'Coffee Shop', 'Coffee Shop', 'Supplement Shop', 'Coffee Shop', 'Coffee Shop', 'Coffee Shop', 'Coffee Shop', 'Coffee Shop', 'Sporting Goods Shop', 'Ice Cream Shop', 'Coffee Shop', 'Tailor Shop', 'Coffee Shop', 'Coffee Shop', 'Coffee Shop', 'Coffee Shop', 'Shopping Mall', 'Smoke Shop', 'Coffee Shop', 'Coffee Shop', 'Gift Shop', 'Gift Shop', 'Coffee Shop', 'Coffee Shop', 'Smoothie Shop', 'Coffee Shop', 'Ice Cream Shop', 'Fish & Chips Shop', 'Coffee Shop', 'Board Shop', 'Food & Drink Shop', 'Coffee Shop', 'Coffee Shop', 'Ice Cream Shop', 'Coffee Shop', 'Tailor Shop', 'Coffee Shop', 'Coffee Shop', 'Coffee Shop', 'Coffee Shop', 'Coffee Shop', 'Cosmetics Shop', 'Coffee Shop', 'Sporting Goods Shop', 'Coffee Shop', 'Shopping Mall', 'Coffee Shop', 'Cosmetics Shop', 'Ice Cream Shop', 'Coffee Shop', 'Cheese Shop', 'Coffee Shop', 'Coffee Shop', 'Coffee Shop', 'Antique Shop', 'Fish & Chips Shop', 'Coffee Shop', 'Record Shop', 'Food & Drink Shop', 'Dessert Shop', 'Mobile Phone Shop', 'Antique Shop', 'Antique Shop', 'Dessert Shop', 'Coffee Shop', 'Flower Shop', 'Coffee Shop', 'Coffee Shop', 'Sporting Goods Shop', 'Sporting Goods Shop', 'Sporting Goods Shop', 'Coffee Shop', 'Dessert Shop', 'Sporting Goods Shop', 'Coffee Shop', 'Donut Shop', 'Ice Cream Shop', 'Coffee Shop', 'Coffee Shop', 'Coffee Shop', 'Dessert Shop', 'Coffee Shop', 'Gourmet Shop', 'Gift Shop', 'Gift Shop', 'Coffee Shop', 'Food & Drink Shop', 'Gourmet Shop', 'Dessert Shop', 'Dessert Shop', 'Coffee Shop', 'Dessert Shop', 'Bubble Tea Shop', 'Coffee Shop', 'Gourmet Shop', 'Coffee Shop', 'Coffee Shop', 'Dessert Shop', 'Comic Shop', 'Bubble Tea Shop', 'Smoothie Shop', 'Coffee Shop', 'Coffee Shop', 'Comic Shop', 'Coffee Shop', 'Cheese Shop', 'Ice Cream Shop', 'Coffee Shop', 'Bubble Tea Shop', 'Coffee Shop', 'Coffee Shop', 'Ice Cream Shop', 'Bubble Tea Shop', 'Fish & Chips Shop', 'Coffee Shop', 'Gourmet Shop', 'Smoothie Shop', 'Coffee Shop', 'Dessert Shop', 'Coffee Shop', 'Coffee Shop', 'Ice Cream Shop', 'Supplement Shop', 'Optical Shop', 'Ice Cream Shop', 'Coffee Shop', 'Dessert Shop', 'Cheese Shop', 'Gourmet Shop', 'Fish & Chips Shop', 'Record Shop', 'Dessert Shop', 'Coffee Shop', 'Bagel Shop', 'Coffee Shop', 'Donut Shop', 'Cosmetics Shop', 'Dessert Shop', 'Comic Shop', 'Ice Cream Shop', 'Gift Shop', 'Coffee Shop', 'Record Shop', 'Cosmetics Shop', 'Bagel Shop', 'Coffee Shop', 'Coffee Shop', 'Coffee Shop', 'Coffee Shop', 'Coffee Shop', 'Coffee Shop', 'Bagel Shop', 'Coffee Shop', 'Coffee Shop', 'Coffee Shop', 'Tailor Shop', 'Cosmetics Shop', 'Coffee Shop', 'Cheese Shop', 'Coffee Shop', 'Cheese Shop', 'Coffee Shop', 'Coffee Shop', 'Sporting Goods Shop', 'Coffee Shop', 'Optical Shop', 'Gourmet Shop', 'Coffee Shop', 'Coffee Shop', 'Coffee Shop', 'Bagel Shop', 'Ice Cream Shop', 'Coffee Shop', 'Gift Shop', 'Coffee Shop', 'Coffee Shop', 'Coffee Shop', 'Coffee Shop', 'Coffee Shop', 'Coffee Shop', 'Food & Drink Shop', 'Coffee Shop', 'Gourmet Shop', 'Coffee Shop', 'Coffee Shop', 'Coffee Shop', 'Coffee Shop', 'Ice Cream Shop', 'Coffee Shop', 'Coffee Shop', 'Coffee Shop', 'Smoke Shop', 'Coffee Shop', 'Tailor Shop', 'Cosmetics Shop', 'Sporting Goods Shop', 'Bubble Tea Shop', 'Coffee Shop', 'Ice Cream Shop', 'Smoke Shop', 'Coffee Shop', 'Hobby Shop', 'Coffee Shop', 'Gourmet Shop', 'Coffee Shop', 'Coffee Shop', 'Coffee Shop', 'Coffee Shop', 'Coffee Shop', 'Coffee Shop', 'Coffee Shop', 'Coffee Shop', 'Chocolate Shop', 'Smoke Shop', 'Bagel Shop', 'Comic Shop', 'Coffee Shop', 'Coffee Shop', 'Board Shop', 'Wine Shop']\n"
     ]
    }
   ],
   "source": [
    "l=[]\n",
    "for ind in df_venues['VenueCategory'].index:\n",
    "    if('Shop' in df_venues['VenueCategory'][ind]):\n",
    "        #print(df_venues['VenueCategory'][ind])\n",
    "        l.append(df_venues['VenueCategory'][ind])\n",
    "print(l)\n",
    "    "
   ]
  },
  {
   "cell_type": "markdown",
   "metadata": {},
   "source": [
    "#### Make a unqiue list that contains no duplicate shops"
   ]
  },
  {
   "cell_type": "code",
   "execution_count": 70,
   "metadata": {},
   "outputs": [],
   "source": [
    "def unique(list1): \n",
    "  \n",
    "    # intilize a null list \n",
    "    unique_list = [] \n",
    "      \n",
    "    # traverse for all elements \n",
    "    for x in list1: \n",
    "        # check if exists in unique_list or not \n",
    "        if x not in unique_list: \n",
    "            unique_list.append(x) \n",
    "    # print list \n",
    "    for x in unique_list: \n",
    "        print(x)  \n",
    "      "
   ]
  },
  {
   "cell_type": "code",
   "execution_count": 71,
   "metadata": {},
   "outputs": [
    {
     "name": "stdout",
     "output_type": "stream",
     "text": [
      "Coffee Shop\n",
      "Dessert Shop\n",
      "Chocolate Shop\n",
      "Ice Cream Shop\n",
      "Cosmetics Shop\n",
      "Wine Shop\n",
      "Antique Shop\n",
      "Bubble Tea Shop\n",
      "Hobby Shop\n",
      "Smoothie Shop\n",
      "Comic Shop\n",
      "Shopping Mall\n",
      "Miscellaneous Shop\n",
      "Tailor Shop\n",
      "Bagel Shop\n",
      "Cheese Shop\n",
      "Sporting Goods Shop\n",
      "Gourmet Shop\n",
      "Optical Shop\n",
      "Donut Shop\n",
      "Gift Shop\n",
      "Smoke Shop\n",
      "Souvlaki Shop\n",
      "Record Shop\n",
      "Cupcake Shop\n",
      "Frozen Yogurt Shop\n",
      "Fish & Chips Shop\n",
      "Supplement Shop\n",
      "Board Shop\n",
      "Food & Drink Shop\n",
      "Mobile Phone Shop\n",
      "Flower Shop\n"
     ]
    }
   ],
   "source": [
    "unique(l)"
   ]
  },
  {
   "cell_type": "markdown",
   "metadata": {},
   "source": [
    "#### Find which food and drink shop is the most loved in the neigbourhood"
   ]
  },
  {
   "cell_type": "code",
   "execution_count": 96,
   "metadata": {},
   "outputs": [
    {
     "data": {
      "image/png": "[encoded data removed]",
      "text/plain": [
       "<Figure size 432x288 with 1 Axes>"
      ]
     },
     "metadata": {
      "needs_background": "light"
     },
     "output_type": "display_data"
    }
   ],
   "source": [
    "import matplotlib.pyplot as plt\n",
    "fig = plt.figure()\n",
    "ax = fig.add_axes([0,0,1,1])\n",
    "shops = ['Coffee','Dessert', 'Chocolate', 'Bubble Tea','Ice Cream','Smoothie','Bagel','Cheese','Donut','Cupcake','Frozen Yogurt',\n",
    "        'Fish & Chips','Food & Drink']\n",
    "number = [(df_venues.VenueCategory=='Coffee Shop').sum(), \n",
    "          (df_venues.VenueCategory=='Dessert Shop').sum(),\n",
    "          (df_venues.VenueCategory=='Chocolate Shop').sum(),\n",
    "          (df_venues.VenueCategory=='Bubble Tea Shop').sum(),\n",
    "          (df_venues.VenueCategory=='Ice Cream Shop').sum(),\n",
    "          (df_venues.VenueCategory=='Smoothie Shop').sum(),\n",
    "          (df_venues.VenueCategory=='Bagel Shop').sum(),\n",
    "         (df_venues.VenueCategory=='Cheese Shop').sum(),\n",
    "         (df_venues.VenueCategory=='Donut Shop').sum(),\n",
    "         (df_venues.VenueCategory=='Cupcke Shop').sum(),\n",
    "         (df_venues.VenueCategory=='Frozen Yogurt Shop').sum(),\n",
    "         (df_venues.VenueCategory=='Fish & Chips Shop').sum(),\n",
    "         (df_venues.VenueCategory=='Food & Drink Shop').sum()]\n",
    "\n",
    "p=plt.bar(shops,number)\n",
    "p[1].set_color('red')\n",
    "p[2].set_color('grey')\n",
    "p[3].set_color('green')\n",
    "p[4].set_color('yellow')\n",
    "p[5].set_color('brown')\n",
    "p[6].set_color('black')\n",
    "p[7].set_color('magenta')\n",
    "p[8].set_color('maroon')\n",
    "p[9].set_color('blue')\n",
    "p[10].set_color('green')\n",
    "p[11].set_color('gold')\n",
    "p[12].set_color('silver')\n",
    "\n",
    "plt.show()"
   ]
  },
  {
   "cell_type": "markdown",
   "metadata": {},
   "source": [
    "From the above graph it is clear that coffee is the loved shop in the neighbourhood of Toronto"
   ]
  },
  {
   "cell_type": "code",
   "execution_count": null,
   "metadata": {},
   "outputs": [],
   "source": []
  }
 ],
 "metadata": {
  "kernelspec": {
   "display_name": "Python 3",
   "language": "python",
   "name": "python3"
  },
  "language_info": {
   "codemirror_mode": {
    "name": "ipython",
    "version": 3
   },
   "file_extension": ".py",
   "mimetype": "text/x-python",
   "name": "python",
   "nbconvert_exporter": "python",
   "pygments_lexer": "ipython3",
   "version": "3.8.4rc1"
  }
 },
 "nbformat": 4,
 "nbformat_minor": 4
}
