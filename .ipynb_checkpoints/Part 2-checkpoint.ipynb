{
 "cells": [
  {
   "cell_type": "markdown",
   "metadata": {},
   "source": [
    "### COURSERA CAPSTONE PROJECT"
   ]
  },
  {
   "cell_type": "markdown",
   "metadata": {},
   "source": [
    "######  This notebook contains the coursera capstone project where our main aim is to locate and suggest friendly locality for  people for are moving from one place to another."
   ]
  },
  {
   "cell_type": "code",
   "execution_count": 1,
   "metadata": {},
   "outputs": [],
   "source": [
    "import pandas as pd\n",
    "import numpy as np\n",
    "import requests"
   ]
  },
  {
   "cell_type": "code",
   "execution_count": 5,
   "metadata": {},
   "outputs": [
    {
     "name": "stdout",
     "output_type": "stream",
     "text": [
      "Collecting pandas\n",
      "  Downloading pandas-1.0.5-cp37-cp37m-win32.whl (7.5 MB)\n",
      "Requirement already satisfied: pytz>=2017.2 in c:\\users\\lenovo\\appdata\\local\\programs\\python\\python37-32\\lib\\site-packages (from pandas) (2019.3)\n",
      "Requirement already satisfied: numpy>=1.13.3 in c:\\users\\lenovo\\appdata\\local\\programs\\python\\python37-32\\lib\\site-packages (from pandas) (1.16.2)\n",
      "Requirement already satisfied: python-dateutil>=2.6.1 in c:\\users\\lenovo\\appdata\\local\\programs\\python\\python37-32\\lib\\site-packages (from pandas) (2.8.0)\n",
      "Requirement already satisfied: six>=1.5 in c:\\users\\lenovo\\appdata\\local\\programs\\python\\python37-32\\lib\\site-packages (from python-dateutil>=2.6.1->pandas) (1.12.0)\n",
      "Installing collected packages: pandas\n",
      "Successfully installed pandas-1.0.5\n"
     ]
    }
   ],
   "source": [
    "!pip3 install pandas"
   ]
  },
  {
   "cell_type": "code",
   "execution_count": 12,
   "metadata": {},
   "outputs": [
    {
     "name": "stdout",
     "output_type": "stream",
     "text": [
      "Requirement already satisfied: lxml in c:\\users\\lenovo\\appdata\\local\\programs\\python\\python37-32\\lib\\site-packages (4.5.1)\n"
     ]
    }
   ],
   "source": [
    "!pip3 install lxml"
   ]
  },
  {
   "cell_type": "markdown",
   "metadata": {},
   "source": [
    "#### The requests I will create a dataframe from the wiki and I will further clean the dataframe and ensure\n",
    "#### only those columns are present where neighborhood is not null."
   ]
  },
  {
   "cell_type": "code",
   "execution_count": 2,
   "metadata": {},
   "outputs": [
    {
     "data": {
      "text/html": [
       "<div>\n",
       "<style scoped>\n",
       "    .dataframe tbody tr th:only-of-type {\n",
       "        vertical-align: middle;\n",
       "    }\n",
       "\n",
       "    .dataframe tbody tr th {\n",
       "        vertical-align: top;\n",
       "    }\n",
       "\n",
       "    .dataframe thead th {\n",
       "        text-align: right;\n",
       "    }\n",
       "</style>\n",
       "<table border=\"1\" class=\"dataframe\">\n",
       "  <thead>\n",
       "    <tr style=\"text-align: right;\">\n",
       "      <th></th>\n",
       "      <th>index</th>\n",
       "      <th>Postal Code</th>\n",
       "      <th>Borough</th>\n",
       "      <th>Neighborhood</th>\n",
       "    </tr>\n",
       "  </thead>\n",
       "  <tbody>\n",
       "    <tr>\n",
       "      <th>0</th>\n",
       "      <td>2</td>\n",
       "      <td>M3A</td>\n",
       "      <td>North York</td>\n",
       "      <td>Parkwoods</td>\n",
       "    </tr>\n",
       "    <tr>\n",
       "      <th>1</th>\n",
       "      <td>3</td>\n",
       "      <td>M4A</td>\n",
       "      <td>North York</td>\n",
       "      <td>Victoria Village</td>\n",
       "    </tr>\n",
       "    <tr>\n",
       "      <th>2</th>\n",
       "      <td>4</td>\n",
       "      <td>M5A</td>\n",
       "      <td>Downtown Toronto</td>\n",
       "      <td>Regent Park, Harbourfront</td>\n",
       "    </tr>\n",
       "    <tr>\n",
       "      <th>3</th>\n",
       "      <td>5</td>\n",
       "      <td>M6A</td>\n",
       "      <td>North York</td>\n",
       "      <td>Lawrence Manor, Lawrence Heights</td>\n",
       "    </tr>\n",
       "    <tr>\n",
       "      <th>4</th>\n",
       "      <td>6</td>\n",
       "      <td>M7A</td>\n",
       "      <td>Downtown Toronto</td>\n",
       "      <td>Queen's Park, Ontario Provincial Government</td>\n",
       "    </tr>\n",
       "  </tbody>\n",
       "</table>\n",
       "</div>"
      ],
      "text/plain": [
       "   index Postal Code           Borough  \\\n",
       "0      2         M3A        North York   \n",
       "1      3         M4A        North York   \n",
       "2      4         M5A  Downtown Toronto   \n",
       "3      5         M6A        North York   \n",
       "4      6         M7A  Downtown Toronto   \n",
       "\n",
       "                                  Neighborhood  \n",
       "0                                    Parkwoods  \n",
       "1                             Victoria Village  \n",
       "2                    Regent Park, Harbourfront  \n",
       "3             Lawrence Manor, Lawrence Heights  \n",
       "4  Queen's Park, Ontario Provincial Government  "
      ]
     },
     "execution_count": 2,
     "metadata": {},
     "output_type": "execute_result"
    }
   ],
   "source": [
    "wiki_link = 'https://en.wikipedia.org/wiki/List_of_postal_codes_of_Canada:_M'\n",
    "wiki_page = requests.get(wiki_link)\n",
    "\n",
    "dataframe = pd.read_html(wiki_page.content, header = 0)[0]\n",
    "df = dataframe[dataframe.Neighborhood != 'Not assigned']\n",
    "df.reset_index(inplace = True)\n",
    "df.head()"
   ]
  },
  {
   "cell_type": "markdown",
   "metadata": {},
   "source": [
    "#### Group the postal code col using groupby function"
   ]
  },
  {
   "cell_type": "code",
   "execution_count": 3,
   "metadata": {},
   "outputs": [
    {
     "data": {
      "text/html": [
       "<div>\n",
       "<style scoped>\n",
       "    .dataframe tbody tr th:only-of-type {\n",
       "        vertical-align: middle;\n",
       "    }\n",
       "\n",
       "    .dataframe tbody tr th {\n",
       "        vertical-align: top;\n",
       "    }\n",
       "\n",
       "    .dataframe thead th {\n",
       "        text-align: right;\n",
       "    }\n",
       "</style>\n",
       "<table border=\"1\" class=\"dataframe\">\n",
       "  <thead>\n",
       "    <tr style=\"text-align: right;\">\n",
       "      <th></th>\n",
       "      <th>index</th>\n",
       "      <th>Borough</th>\n",
       "      <th>Neighborhood</th>\n",
       "    </tr>\n",
       "    <tr>\n",
       "      <th>Postal Code</th>\n",
       "      <th></th>\n",
       "      <th></th>\n",
       "      <th></th>\n",
       "    </tr>\n",
       "  </thead>\n",
       "  <tbody>\n",
       "    <tr>\n",
       "      <th>M1B</th>\n",
       "      <td>9</td>\n",
       "      <td>Scarborough</td>\n",
       "      <td>Malvern, Rouge</td>\n",
       "    </tr>\n",
       "    <tr>\n",
       "      <th>M1C</th>\n",
       "      <td>18</td>\n",
       "      <td>Scarborough</td>\n",
       "      <td>Rouge Hill, Port Union, Highland Creek</td>\n",
       "    </tr>\n",
       "    <tr>\n",
       "      <th>M1E</th>\n",
       "      <td>27</td>\n",
       "      <td>Scarborough</td>\n",
       "      <td>Guildwood, Morningside, West Hill</td>\n",
       "    </tr>\n",
       "    <tr>\n",
       "      <th>M1G</th>\n",
       "      <td>36</td>\n",
       "      <td>Scarborough</td>\n",
       "      <td>Woburn</td>\n",
       "    </tr>\n",
       "    <tr>\n",
       "      <th>M1H</th>\n",
       "      <td>45</td>\n",
       "      <td>Scarborough</td>\n",
       "      <td>Cedarbrae</td>\n",
       "    </tr>\n",
       "    <tr>\n",
       "      <th>...</th>\n",
       "      <td>...</td>\n",
       "      <td>...</td>\n",
       "      <td>...</td>\n",
       "    </tr>\n",
       "    <tr>\n",
       "      <th>M9N</th>\n",
       "      <td>98</td>\n",
       "      <td>York</td>\n",
       "      <td>Weston</td>\n",
       "    </tr>\n",
       "    <tr>\n",
       "      <th>M9P</th>\n",
       "      <td>107</td>\n",
       "      <td>Etobicoke</td>\n",
       "      <td>Westmount</td>\n",
       "    </tr>\n",
       "    <tr>\n",
       "      <th>M9R</th>\n",
       "      <td>116</td>\n",
       "      <td>Etobicoke</td>\n",
       "      <td>Kingsview Village, St. Phillips, Martin Grove ...</td>\n",
       "    </tr>\n",
       "    <tr>\n",
       "      <th>M9V</th>\n",
       "      <td>143</td>\n",
       "      <td>Etobicoke</td>\n",
       "      <td>South Steeles, Silverstone, Humbergate, Jamest...</td>\n",
       "    </tr>\n",
       "    <tr>\n",
       "      <th>M9W</th>\n",
       "      <td>152</td>\n",
       "      <td>Etobicoke</td>\n",
       "      <td>Northwest, West Humber - Clairville</td>\n",
       "    </tr>\n",
       "  </tbody>\n",
       "</table>\n",
       "<p>103 rows × 3 columns</p>\n",
       "</div>"
      ],
      "text/plain": [
       "             index      Borough  \\\n",
       "Postal Code                       \n",
       "M1B              9  Scarborough   \n",
       "M1C             18  Scarborough   \n",
       "M1E             27  Scarborough   \n",
       "M1G             36  Scarborough   \n",
       "M1H             45  Scarborough   \n",
       "...            ...          ...   \n",
       "M9N             98         York   \n",
       "M9P            107    Etobicoke   \n",
       "M9R            116    Etobicoke   \n",
       "M9V            143    Etobicoke   \n",
       "M9W            152    Etobicoke   \n",
       "\n",
       "                                                  Neighborhood  \n",
       "Postal Code                                                     \n",
       "M1B                                             Malvern, Rouge  \n",
       "M1C                     Rouge Hill, Port Union, Highland Creek  \n",
       "M1E                          Guildwood, Morningside, West Hill  \n",
       "M1G                                                     Woburn  \n",
       "M1H                                                  Cedarbrae  \n",
       "...                                                        ...  \n",
       "M9N                                                     Weston  \n",
       "M9P                                                  Westmount  \n",
       "M9R          Kingsview Village, St. Phillips, Martin Grove ...  \n",
       "M9V          South Steeles, Silverstone, Humbergate, Jamest...  \n",
       "M9W                        Northwest, West Humber - Clairville  \n",
       "\n",
       "[103 rows x 3 columns]"
      ]
     },
     "execution_count": 3,
     "metadata": {},
     "output_type": "execute_result"
    }
   ],
   "source": [
    "df.groupby(['Postal Code']).first()"
   ]
  },
  {
   "cell_type": "markdown",
   "metadata": {},
   "source": [
    "#### Display the shape of the dataframe."
   ]
  },
  {
   "cell_type": "code",
   "execution_count": 4,
   "metadata": {},
   "outputs": [
    {
     "data": {
      "text/plain": [
       "(103, 4)"
      ]
     },
     "execution_count": 4,
     "metadata": {},
     "output_type": "execute_result"
    }
   ],
   "source": [
    "df.shape"
   ]
  },
  {
   "cell_type": "markdown",
   "metadata": {},
   "source": [
    "# Part 2\n",
    "#### Use url to create a dataframe"
   ]
  },
  {
   "cell_type": "code",
   "execution_count": 5,
   "metadata": {},
   "outputs": [],
   "source": [
    "url = 'http://cocl.us/Geospatial_data'"
   ]
  },
  {
   "cell_type": "code",
   "execution_count": 6,
   "metadata": {},
   "outputs": [
    {
     "data": {
      "text/html": [
       "<div>\n",
       "<style scoped>\n",
       "    .dataframe tbody tr th:only-of-type {\n",
       "        vertical-align: middle;\n",
       "    }\n",
       "\n",
       "    .dataframe tbody tr th {\n",
       "        vertical-align: top;\n",
       "    }\n",
       "\n",
       "    .dataframe thead th {\n",
       "        text-align: right;\n",
       "    }\n",
       "</style>\n",
       "<table border=\"1\" class=\"dataframe\">\n",
       "  <thead>\n",
       "    <tr style=\"text-align: right;\">\n",
       "      <th></th>\n",
       "      <th>Postal Code</th>\n",
       "      <th>Latitude</th>\n",
       "      <th>Longitude</th>\n",
       "    </tr>\n",
       "  </thead>\n",
       "  <tbody>\n",
       "    <tr>\n",
       "      <th>0</th>\n",
       "      <td>M1B</td>\n",
       "      <td>43.806686</td>\n",
       "      <td>-79.194353</td>\n",
       "    </tr>\n",
       "    <tr>\n",
       "      <th>1</th>\n",
       "      <td>M1C</td>\n",
       "      <td>43.784535</td>\n",
       "      <td>-79.160497</td>\n",
       "    </tr>\n",
       "    <tr>\n",
       "      <th>2</th>\n",
       "      <td>M1E</td>\n",
       "      <td>43.763573</td>\n",
       "      <td>-79.188711</td>\n",
       "    </tr>\n",
       "    <tr>\n",
       "      <th>3</th>\n",
       "      <td>M1G</td>\n",
       "      <td>43.770992</td>\n",
       "      <td>-79.216917</td>\n",
       "    </tr>\n",
       "    <tr>\n",
       "      <th>4</th>\n",
       "      <td>M1H</td>\n",
       "      <td>43.773136</td>\n",
       "      <td>-79.239476</td>\n",
       "    </tr>\n",
       "  </tbody>\n",
       "</table>\n",
       "</div>"
      ],
      "text/plain": [
       "  Postal Code   Latitude  Longitude\n",
       "0         M1B  43.806686 -79.194353\n",
       "1         M1C  43.784535 -79.160497\n",
       "2         M1E  43.763573 -79.188711\n",
       "3         M1G  43.770992 -79.216917\n",
       "4         M1H  43.773136 -79.239476"
      ]
     },
     "execution_count": 6,
     "metadata": {},
     "output_type": "execute_result"
    }
   ],
   "source": [
    "df_geo = pd.read_csv(url)\n",
    "df_geo.head()\n"
   ]
  },
  {
   "cell_type": "markdown",
   "metadata": {},
   "source": [
    "#### Check the data type and shape of the df_geo dataframe"
   ]
  },
  {
   "cell_type": "code",
   "execution_count": 7,
   "metadata": {},
   "outputs": [
    {
     "name": "stdout",
     "output_type": "stream",
     "text": [
      "The data type of the df_geo is:  Postal Code     object\n",
      "Latitude       float64\n",
      "Longitude      float64\n",
      "dtype: object\n",
      "The shape of the dataframe is:  (103, 3)\n"
     ]
    }
   ],
   "source": [
    "print(\"The data type of the df_geo is: \",df_geo.dtypes)\n",
    "print(\"The shape of the dataframe is: \",df_geo.shape)"
   ]
  },
  {
   "cell_type": "markdown",
   "metadata": {},
   "source": [
    "#### Join the two dataframes i.e df and df_geo"
   ]
  },
  {
   "cell_type": "code",
   "execution_count": 8,
   "metadata": {},
   "outputs": [
    {
     "data": {
      "text/html": [
       "<div>\n",
       "<style scoped>\n",
       "    .dataframe tbody tr th:only-of-type {\n",
       "        vertical-align: middle;\n",
       "    }\n",
       "\n",
       "    .dataframe tbody tr th {\n",
       "        vertical-align: top;\n",
       "    }\n",
       "\n",
       "    .dataframe thead th {\n",
       "        text-align: right;\n",
       "    }\n",
       "</style>\n",
       "<table border=\"1\" class=\"dataframe\">\n",
       "  <thead>\n",
       "    <tr style=\"text-align: right;\">\n",
       "      <th></th>\n",
       "      <th>index</th>\n",
       "      <th>Postal Code</th>\n",
       "      <th>Borough</th>\n",
       "      <th>Neighborhood</th>\n",
       "      <th>Latitude</th>\n",
       "      <th>Longitude</th>\n",
       "    </tr>\n",
       "  </thead>\n",
       "  <tbody>\n",
       "    <tr>\n",
       "      <th>0</th>\n",
       "      <td>2</td>\n",
       "      <td>M3A</td>\n",
       "      <td>North York</td>\n",
       "      <td>Parkwoods</td>\n",
       "      <td>43.753259</td>\n",
       "      <td>-79.329656</td>\n",
       "    </tr>\n",
       "    <tr>\n",
       "      <th>1</th>\n",
       "      <td>3</td>\n",
       "      <td>M4A</td>\n",
       "      <td>North York</td>\n",
       "      <td>Victoria Village</td>\n",
       "      <td>43.725882</td>\n",
       "      <td>-79.315572</td>\n",
       "    </tr>\n",
       "    <tr>\n",
       "      <th>2</th>\n",
       "      <td>4</td>\n",
       "      <td>M5A</td>\n",
       "      <td>Downtown Toronto</td>\n",
       "      <td>Regent Park, Harbourfront</td>\n",
       "      <td>43.654260</td>\n",
       "      <td>-79.360636</td>\n",
       "    </tr>\n",
       "    <tr>\n",
       "      <th>3</th>\n",
       "      <td>5</td>\n",
       "      <td>M6A</td>\n",
       "      <td>North York</td>\n",
       "      <td>Lawrence Manor, Lawrence Heights</td>\n",
       "      <td>43.718518</td>\n",
       "      <td>-79.464763</td>\n",
       "    </tr>\n",
       "    <tr>\n",
       "      <th>4</th>\n",
       "      <td>6</td>\n",
       "      <td>M7A</td>\n",
       "      <td>Downtown Toronto</td>\n",
       "      <td>Queen's Park, Ontario Provincial Government</td>\n",
       "      <td>43.662301</td>\n",
       "      <td>-79.389494</td>\n",
       "    </tr>\n",
       "    <tr>\n",
       "      <th>...</th>\n",
       "      <td>...</td>\n",
       "      <td>...</td>\n",
       "      <td>...</td>\n",
       "      <td>...</td>\n",
       "      <td>...</td>\n",
       "      <td>...</td>\n",
       "    </tr>\n",
       "    <tr>\n",
       "      <th>98</th>\n",
       "      <td>160</td>\n",
       "      <td>M8X</td>\n",
       "      <td>Etobicoke</td>\n",
       "      <td>The Kingsway, Montgomery Road, Old Mill North</td>\n",
       "      <td>43.653654</td>\n",
       "      <td>-79.506944</td>\n",
       "    </tr>\n",
       "    <tr>\n",
       "      <th>99</th>\n",
       "      <td>165</td>\n",
       "      <td>M4Y</td>\n",
       "      <td>Downtown Toronto</td>\n",
       "      <td>Church and Wellesley</td>\n",
       "      <td>43.665860</td>\n",
       "      <td>-79.383160</td>\n",
       "    </tr>\n",
       "    <tr>\n",
       "      <th>100</th>\n",
       "      <td>168</td>\n",
       "      <td>M7Y</td>\n",
       "      <td>East Toronto</td>\n",
       "      <td>Business reply mail Processing Centre, South C...</td>\n",
       "      <td>43.662744</td>\n",
       "      <td>-79.321558</td>\n",
       "    </tr>\n",
       "    <tr>\n",
       "      <th>101</th>\n",
       "      <td>169</td>\n",
       "      <td>M8Y</td>\n",
       "      <td>Etobicoke</td>\n",
       "      <td>Old Mill South, King's Mill Park, Sunnylea, Hu...</td>\n",
       "      <td>43.636258</td>\n",
       "      <td>-79.498509</td>\n",
       "    </tr>\n",
       "    <tr>\n",
       "      <th>102</th>\n",
       "      <td>178</td>\n",
       "      <td>M8Z</td>\n",
       "      <td>Etobicoke</td>\n",
       "      <td>Mimico NW, The Queensway West, South of Bloor,...</td>\n",
       "      <td>43.628841</td>\n",
       "      <td>-79.520999</td>\n",
       "    </tr>\n",
       "  </tbody>\n",
       "</table>\n",
       "<p>103 rows × 6 columns</p>\n",
       "</div>"
      ],
      "text/plain": [
       "     index Postal Code           Borough  \\\n",
       "0        2         M3A        North York   \n",
       "1        3         M4A        North York   \n",
       "2        4         M5A  Downtown Toronto   \n",
       "3        5         M6A        North York   \n",
       "4        6         M7A  Downtown Toronto   \n",
       "..     ...         ...               ...   \n",
       "98     160         M8X         Etobicoke   \n",
       "99     165         M4Y  Downtown Toronto   \n",
       "100    168         M7Y      East Toronto   \n",
       "101    169         M8Y         Etobicoke   \n",
       "102    178         M8Z         Etobicoke   \n",
       "\n",
       "                                          Neighborhood   Latitude  Longitude  \n",
       "0                                            Parkwoods  43.753259 -79.329656  \n",
       "1                                     Victoria Village  43.725882 -79.315572  \n",
       "2                            Regent Park, Harbourfront  43.654260 -79.360636  \n",
       "3                     Lawrence Manor, Lawrence Heights  43.718518 -79.464763  \n",
       "4          Queen's Park, Ontario Provincial Government  43.662301 -79.389494  \n",
       "..                                                 ...        ...        ...  \n",
       "98       The Kingsway, Montgomery Road, Old Mill North  43.653654 -79.506944  \n",
       "99                                Church and Wellesley  43.665860 -79.383160  \n",
       "100  Business reply mail Processing Centre, South C...  43.662744 -79.321558  \n",
       "101  Old Mill South, King's Mill Park, Sunnylea, Hu...  43.636258 -79.498509  \n",
       "102  Mimico NW, The Queensway West, South of Bloor,...  43.628841 -79.520999  \n",
       "\n",
       "[103 rows x 6 columns]"
      ]
     },
     "execution_count": 8,
     "metadata": {},
     "output_type": "execute_result"
    }
   ],
   "source": [
    "df = df.join(df_geo.set_index('Postal Code'), on='Postal Code',how='left')\n",
    "df"
   ]
  },
  {
   "cell_type": "code",
   "execution_count": 9,
   "metadata": {},
   "outputs": [
    {
     "data": {
      "text/html": [
       "<div>\n",
       "<style scoped>\n",
       "    .dataframe tbody tr th:only-of-type {\n",
       "        vertical-align: middle;\n",
       "    }\n",
       "\n",
       "    .dataframe tbody tr th {\n",
       "        vertical-align: top;\n",
       "    }\n",
       "\n",
       "    .dataframe thead th {\n",
       "        text-align: right;\n",
       "    }\n",
       "</style>\n",
       "<table border=\"1\" class=\"dataframe\">\n",
       "  <thead>\n",
       "    <tr style=\"text-align: right;\">\n",
       "      <th></th>\n",
       "      <th>Postal Code</th>\n",
       "      <th>Borough</th>\n",
       "      <th>Neighborhood</th>\n",
       "      <th>Latitude</th>\n",
       "      <th>Longitude</th>\n",
       "    </tr>\n",
       "  </thead>\n",
       "  <tbody>\n",
       "    <tr>\n",
       "      <th>0</th>\n",
       "      <td>M3A</td>\n",
       "      <td>North York</td>\n",
       "      <td>Parkwoods</td>\n",
       "      <td>43.753259</td>\n",
       "      <td>-79.329656</td>\n",
       "    </tr>\n",
       "    <tr>\n",
       "      <th>1</th>\n",
       "      <td>M4A</td>\n",
       "      <td>North York</td>\n",
       "      <td>Victoria Village</td>\n",
       "      <td>43.725882</td>\n",
       "      <td>-79.315572</td>\n",
       "    </tr>\n",
       "    <tr>\n",
       "      <th>2</th>\n",
       "      <td>M5A</td>\n",
       "      <td>Downtown Toronto</td>\n",
       "      <td>Regent Park, Harbourfront</td>\n",
       "      <td>43.654260</td>\n",
       "      <td>-79.360636</td>\n",
       "    </tr>\n",
       "    <tr>\n",
       "      <th>3</th>\n",
       "      <td>M6A</td>\n",
       "      <td>North York</td>\n",
       "      <td>Lawrence Manor, Lawrence Heights</td>\n",
       "      <td>43.718518</td>\n",
       "      <td>-79.464763</td>\n",
       "    </tr>\n",
       "    <tr>\n",
       "      <th>4</th>\n",
       "      <td>M7A</td>\n",
       "      <td>Downtown Toronto</td>\n",
       "      <td>Queen's Park, Ontario Provincial Government</td>\n",
       "      <td>43.662301</td>\n",
       "      <td>-79.389494</td>\n",
       "    </tr>\n",
       "    <tr>\n",
       "      <th>...</th>\n",
       "      <td>...</td>\n",
       "      <td>...</td>\n",
       "      <td>...</td>\n",
       "      <td>...</td>\n",
       "      <td>...</td>\n",
       "    </tr>\n",
       "    <tr>\n",
       "      <th>98</th>\n",
       "      <td>M8X</td>\n",
       "      <td>Etobicoke</td>\n",
       "      <td>The Kingsway, Montgomery Road, Old Mill North</td>\n",
       "      <td>43.653654</td>\n",
       "      <td>-79.506944</td>\n",
       "    </tr>\n",
       "    <tr>\n",
       "      <th>99</th>\n",
       "      <td>M4Y</td>\n",
       "      <td>Downtown Toronto</td>\n",
       "      <td>Church and Wellesley</td>\n",
       "      <td>43.665860</td>\n",
       "      <td>-79.383160</td>\n",
       "    </tr>\n",
       "    <tr>\n",
       "      <th>100</th>\n",
       "      <td>M7Y</td>\n",
       "      <td>East Toronto</td>\n",
       "      <td>Business reply mail Processing Centre, South C...</td>\n",
       "      <td>43.662744</td>\n",
       "      <td>-79.321558</td>\n",
       "    </tr>\n",
       "    <tr>\n",
       "      <th>101</th>\n",
       "      <td>M8Y</td>\n",
       "      <td>Etobicoke</td>\n",
       "      <td>Old Mill South, King's Mill Park, Sunnylea, Hu...</td>\n",
       "      <td>43.636258</td>\n",
       "      <td>-79.498509</td>\n",
       "    </tr>\n",
       "    <tr>\n",
       "      <th>102</th>\n",
       "      <td>M8Z</td>\n",
       "      <td>Etobicoke</td>\n",
       "      <td>Mimico NW, The Queensway West, South of Bloor,...</td>\n",
       "      <td>43.628841</td>\n",
       "      <td>-79.520999</td>\n",
       "    </tr>\n",
       "  </tbody>\n",
       "</table>\n",
       "<p>103 rows × 5 columns</p>\n",
       "</div>"
      ],
      "text/plain": [
       "    Postal Code           Borough  \\\n",
       "0           M3A        North York   \n",
       "1           M4A        North York   \n",
       "2           M5A  Downtown Toronto   \n",
       "3           M6A        North York   \n",
       "4           M7A  Downtown Toronto   \n",
       "..          ...               ...   \n",
       "98          M8X         Etobicoke   \n",
       "99          M4Y  Downtown Toronto   \n",
       "100         M7Y      East Toronto   \n",
       "101         M8Y         Etobicoke   \n",
       "102         M8Z         Etobicoke   \n",
       "\n",
       "                                          Neighborhood   Latitude  Longitude  \n",
       "0                                            Parkwoods  43.753259 -79.329656  \n",
       "1                                     Victoria Village  43.725882 -79.315572  \n",
       "2                            Regent Park, Harbourfront  43.654260 -79.360636  \n",
       "3                     Lawrence Manor, Lawrence Heights  43.718518 -79.464763  \n",
       "4          Queen's Park, Ontario Provincial Government  43.662301 -79.389494  \n",
       "..                                                 ...        ...        ...  \n",
       "98       The Kingsway, Montgomery Road, Old Mill North  43.653654 -79.506944  \n",
       "99                                Church and Wellesley  43.665860 -79.383160  \n",
       "100  Business reply mail Processing Centre, South C...  43.662744 -79.321558  \n",
       "101  Old Mill South, King's Mill Park, Sunnylea, Hu...  43.636258 -79.498509  \n",
       "102  Mimico NW, The Queensway West, South of Bloor,...  43.628841 -79.520999  \n",
       "\n",
       "[103 rows x 5 columns]"
      ]
     },
     "execution_count": 9,
     "metadata": {},
     "output_type": "execute_result"
    }
   ],
   "source": [
    "df=df.drop(['index'],axis=1)\n",
    "df"
   ]
  },
  {
   "cell_type": "markdown",
   "metadata": {},
   "source": [
    "#### Install geocoder"
   ]
  },
  {
   "cell_type": "code",
   "execution_count": 14,
   "metadata": {},
   "outputs": [
    {
     "name": "stdout",
     "output_type": "stream",
     "text": [
      "Collecting geocoder\n",
      "  Using cached geocoder-1.38.1-py2.py3-none-any.whl (98 kB)\n",
      "Collecting ratelim\n",
      "  Using cached ratelim-0.1.6-py2.py3-none-any.whl (4.0 kB)\n",
      "Requirement already satisfied: click in c:\\users\\lenovo\\appdata\\local\\programs\\python\\python37-32\\lib\\site-packages (from geocoder) (7.0)\n",
      "Requirement already satisfied: six in c:\\users\\lenovo\\appdata\\local\\programs\\python\\python37-32\\lib\\site-packages (from geocoder) (1.12.0)\n",
      "Requirement already satisfied: requests in c:\\users\\lenovo\\appdata\\local\\programs\\python\\python37-32\\lib\\site-packages (from geocoder) (2.22.0)\n",
      "Collecting future\n",
      "  Downloading future-0.18.2.tar.gz (829 kB)\n",
      "Requirement already satisfied: decorator in c:\\users\\lenovo\\appdata\\local\\programs\\python\\python37-32\\lib\\site-packages (from ratelim->geocoder) (4.4.2)\n",
      "Requirement already satisfied: urllib3!=1.25.0,!=1.25.1,<1.26,>=1.21.1 in c:\\users\\lenovo\\appdata\\local\\programs\\python\\python37-32\\lib\\site-packages (from requests->geocoder) (1.25.6)\n",
      "Requirement already satisfied: chardet<3.1.0,>=3.0.2 in c:\\users\\lenovo\\appdata\\local\\programs\\python\\python37-32\\lib\\site-packages (from requests->geocoder) (3.0.4)\n",
      "Requirement already satisfied: idna<2.9,>=2.5 in c:\\users\\lenovo\\appdata\\local\\programs\\python\\python37-32\\lib\\site-packages (from requests->geocoder) (2.8)\n",
      "Requirement already satisfied: certifi>=2017.4.17 in c:\\users\\lenovo\\appdata\\local\\programs\\python\\python37-32\\lib\\site-packages (from requests->geocoder) (2019.9.11)\n",
      "Building wheels for collected packages: future\n",
      "  Building wheel for future (setup.py): started\n",
      "  Building wheel for future (setup.py): finished with status 'done'\n",
      "  Created wheel for future: filename=future-0.18.2-py3-none-any.whl size=491062 sha256=cc773aca5d0cfe29b50dc553c28f5314b54d20d208722f9c8a2dd6d694ffb100\n",
      "  Stored in directory: c:\\users\\lenovo\\appdata\\local\\pip\\cache\\wheels\\56\\b0\\fe\\4410d17b32f1f0c3cf54cdfb2bc04d7b4b8f4ae377e2229ba0\n",
      "Successfully built future\n",
      "Installing collected packages: ratelim, future, geocoder\n",
      "Successfully installed future-0.18.2 geocoder-1.38.1 ratelim-0.1.6\n"
     ]
    }
   ],
   "source": [
    "! pip install geocoder"
   ]
  },
  {
   "cell_type": "markdown",
   "metadata": {},
   "source": [
    "#### Install geopy"
   ]
  },
  {
   "cell_type": "code",
   "execution_count": 21,
   "metadata": {},
   "outputs": [
    {
     "name": "stdout",
     "output_type": "stream",
     "text": [
      "Collecting geopy\n",
      "  Downloading geopy-2.0.0-py3-none-any.whl (111 kB)\n",
      "Collecting geographiclib<2,>=1.49\n",
      "  Downloading geographiclib-1.50-py3-none-any.whl (38 kB)\n",
      "Installing collected packages: geographiclib, geopy\n",
      "Successfully installed geographiclib-1.50 geopy-2.0.0\n"
     ]
    }
   ],
   "source": [
    "!pip3 install geopy"
   ]
  },
  {
   "cell_type": "code",
   "execution_count": 22,
   "metadata": {},
   "outputs": [],
   "source": [
    "import folium\n",
    "import geocoder\n",
    "from geopy.geocoders import Nominatim "
   ]
  },
  {
   "cell_type": "markdown",
   "metadata": {},
   "source": [
    "#### Get the coordinates values of Toronto "
   ]
  },
  {
   "cell_type": "code",
   "execution_count": 26,
   "metadata": {},
   "outputs": [
    {
     "name": "stdout",
     "output_type": "stream",
     "text": [
      "The coordinate of Toronto are 43.6534817, -79.3839347.\n"
     ]
    }
   ],
   "source": [
    "add = 'Toronto'\n",
    "\n",
    "geolocator = Nominatim(user_agent=\"toronto_explorer\")\n",
    "location = geolocator.geocode(add)\n",
    "latitude = location.latitude\n",
    "longitude= location.longitude\n",
    "print('The coordinate of Toronto are {}, {}.'.format(latitude, longitude))"
   ]
  },
  {
   "cell_type": "markdown",
   "metadata": {},
   "source": [
    "#### Map the neightbourhood of Toronto "
   ]
  },
  {
   "cell_type": "code",
   "execution_count": 29,
   "metadata": {},
   "outputs": [
    {
     "data": {
      "text/html": [
       "<div style=\"width:100%;\"><div style=\"position:relative;width:100%;height:0;padding-bottom:60%;\"><span style=\"color:#565656\">Make this Notebook Trusted to load map: File -> Trust Notebook</span><iframe src=\"about:blank\" style=\"position:absolute;width:100%;height:100%;left:0;top:0;border:none !important;\" data-html=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 onload=\"this.contentDocument.open();this.contentDocument.write(atob(this.getAttribute('data-html')));this.contentDocument.close();\" allowfullscreen webkitallowfullscreen mozallowfullscreen></iframe></div></div>"
      ],
      "text/plain": [
       "<folium.folium.Map at 0xba322b0>"
      ]
     },
     "execution_count": 29,
     "metadata": {},
     "output_type": "execute_result"
    }
   ],
   "source": [
    "#Define the coordinates of toronto\n",
    "Map= folium.Map(location=[latitude, longitude], zoom_start=10)\n",
    "\n",
    "# add markers to map\n",
    "for lat, lng, borough, neighborhood in zip(df['Latitude'], df['Longitude'], df['Borough'], df['Neighborhood']):\n",
    "    label = '{}, {}'.format(neighborhood, borough)\n",
    "    label = folium.Popup(label, parse_html=True)\n",
    "    folium.CircleMarker(\n",
    "        [lat, lng],\n",
    "        radius=4,\n",
    "        popup=label,\n",
    "        color='green',\n",
    "        fill=True,\n",
    "        fill_color='red',\n",
    "        fill_opacity=0.5).add_to(Map)  \n",
    "    \n",
    "Map"
   ]
  },
  {
   "cell_type": "markdown",
   "metadata": {},
   "source": [
    "#### Filter the borough that contains only toronto"
   ]
  },
  {
   "cell_type": "code",
   "execution_count": 39,
   "metadata": {},
   "outputs": [
    {
     "data": {
      "text/plain": [
       "['Downtown Toronto', 'East Toronto', 'West Toronto', 'Central Toronto']"
      ]
     },
     "execution_count": 39,
     "metadata": {},
     "output_type": "execute_result"
    }
   ],
   "source": [
    "#Empty list\n",
    "\n",
    "List_toronto = []\n",
    "#Parse the borough column\n",
    "\n",
    "for x in df['Borough'].unique():\n",
    "    if \"Toronto\" in x:\n",
    "        List_toronto.append(x)\n",
    "        \n",
    "List_toronto"
   ]
  },
  {
   "cell_type": "markdown",
   "metadata": {},
   "source": [
    "#### Create a new dataframe with only toronto name"
   ]
  },
  {
   "cell_type": "code",
   "execution_count": 44,
   "metadata": {},
   "outputs": [
    {
     "data": {
      "text/html": [
       "<div>\n",
       "<style scoped>\n",
       "    .dataframe tbody tr th:only-of-type {\n",
       "        vertical-align: middle;\n",
       "    }\n",
       "\n",
       "    .dataframe tbody tr th {\n",
       "        vertical-align: top;\n",
       "    }\n",
       "\n",
       "    .dataframe thead th {\n",
       "        text-align: right;\n",
       "    }\n",
       "</style>\n",
       "<table border=\"1\" class=\"dataframe\">\n",
       "  <thead>\n",
       "    <tr style=\"text-align: right;\">\n",
       "      <th></th>\n",
       "      <th>Postal Code</th>\n",
       "      <th>Borough</th>\n",
       "      <th>Neighborhood</th>\n",
       "      <th>Latitude</th>\n",
       "      <th>Longitude</th>\n",
       "    </tr>\n",
       "  </thead>\n",
       "  <tbody>\n",
       "    <tr>\n",
       "      <th>0</th>\n",
       "      <td>M5A</td>\n",
       "      <td>Downtown Toronto</td>\n",
       "      <td>Regent Park, Harbourfront</td>\n",
       "      <td>43.654260</td>\n",
       "      <td>-79.360636</td>\n",
       "    </tr>\n",
       "    <tr>\n",
       "      <th>1</th>\n",
       "      <td>M7A</td>\n",
       "      <td>Downtown Toronto</td>\n",
       "      <td>Queen's Park, Ontario Provincial Government</td>\n",
       "      <td>43.662301</td>\n",
       "      <td>-79.389494</td>\n",
       "    </tr>\n",
       "    <tr>\n",
       "      <th>2</th>\n",
       "      <td>M5B</td>\n",
       "      <td>Downtown Toronto</td>\n",
       "      <td>Garden District, Ryerson</td>\n",
       "      <td>43.657162</td>\n",
       "      <td>-79.378937</td>\n",
       "    </tr>\n",
       "    <tr>\n",
       "      <th>3</th>\n",
       "      <td>M5C</td>\n",
       "      <td>Downtown Toronto</td>\n",
       "      <td>St. James Town</td>\n",
       "      <td>43.651494</td>\n",
       "      <td>-79.375418</td>\n",
       "    </tr>\n",
       "    <tr>\n",
       "      <th>4</th>\n",
       "      <td>M4E</td>\n",
       "      <td>East Toronto</td>\n",
       "      <td>The Beaches</td>\n",
       "      <td>43.676357</td>\n",
       "      <td>-79.293031</td>\n",
       "    </tr>\n",
       "  </tbody>\n",
       "</table>\n",
       "</div>"
      ],
      "text/plain": [
       "  Postal Code           Borough                                 Neighborhood  \\\n",
       "0         M5A  Downtown Toronto                    Regent Park, Harbourfront   \n",
       "1         M7A  Downtown Toronto  Queen's Park, Ontario Provincial Government   \n",
       "2         M5B  Downtown Toronto                     Garden District, Ryerson   \n",
       "3         M5C  Downtown Toronto                               St. James Town   \n",
       "4         M4E      East Toronto                                  The Beaches   \n",
       "\n",
       "    Latitude  Longitude  \n",
       "0  43.654260 -79.360636  \n",
       "1  43.662301 -79.389494  \n",
       "2  43.657162 -79.378937  \n",
       "3  43.651494 -79.375418  \n",
       "4  43.676357 -79.293031  "
      ]
     },
     "execution_count": 44,
     "metadata": {},
     "output_type": "execute_result"
    }
   ],
   "source": [
    "df_toronto = df[df['Borough'].isin(List_toronto)].reset_index(drop=True)\n",
    "\n",
    "df_toronto.head()\n"
   ]
  },
  {
   "cell_type": "markdown",
   "metadata": {},
   "source": [
    "#### Using Foursquare API to explore neighbourhood"
   ]
  },
  {
   "cell_type": "code",
   "execution_count": 51,
   "metadata": {},
   "outputs": [
    {
     "name": "stdout",
     "output_type": "stream",
     "text": [
      "Your credentails:\n",
      "CLIENT_ID: DW220BXCDDO5FKMQZOQGOZFESKLZCXS4UMC0YEZVMZHDY0TV\n",
      "CLIENT_SECRET:R3KKZUGFGGVINYKNATLIGVZ5RIUG1UIXJZYB3LKX4TZI5RPJ\n"
     ]
    }
   ],
   "source": [
    "# define Foursquare Credentials and Version\n",
    "CLIENT_ID = 'DW220BXCDDO5FKMQZOQGOZFESKLZCXS4UMC0YEZVMZHDY0TV' # your Foursquare ID\n",
    "CLIENT_SECRET = 'R3KKZUGFGGVINYKNATLIGVZ5RIUG1UIXJZYB3LKX4TZI5RPJ' # your Foursquare Secret\n",
    "VERSION = '20180605' # Foursquare API version\n",
    "\n",
    "print('Your credentails:')\n",
    "print('CLIENT_ID: ' + CLIENT_ID)\n",
    "print('CLIENT_SECRET:' + CLIENT_SECRET)"
   ]
  },
  {
   "cell_type": "markdown",
   "metadata": {},
   "source": [
    "#### Let explore and get top 150 locations with a radius of 700 meters"
   ]
  },
  {
   "cell_type": "code",
   "execution_count": 64,
   "metadata": {},
   "outputs": [],
   "source": [
    "radius = 700\n",
    "LIMIT = 150\n",
    "\n",
    "venues = []\n",
    "\n",
    "for lat, long, post, borough, neighborhood in zip(df_toronto['Latitude'], df_toronto['Longitude'],df_toronto['Postal Code'], df_toronto['Borough'],df_toronto['Neighborhood']):\n",
    "    url = \"https://api.foursquare.com/v2/venues/explore?client_id={}&client_secret={}&v={}&ll={},{}&radius={}&limit={}\".format(\n",
    "        CLIENT_ID,\n",
    "        CLIENT_SECRET,\n",
    "        VERSION,\n",
    "        lat,\n",
    "        long,\n",
    "        radius, \n",
    "        LIMIT)\n",
    "    \n",
    "    results = requests.get(url).json()[\"response\"]['groups'][0]['items']\n",
    "    \n",
    "    for venue in results:\n",
    "        venues.append((\n",
    "            post, \n",
    "            borough,\n",
    "            neighborhood,\n",
    "            lat, \n",
    "            long, \n",
    "            venue['venue']['name'], \n",
    "            venue['venue']['location']['lat'], \n",
    "            venue['venue']['location']['lng'],  \n",
    "            venue['venue']['categories'][0]['name']))\n",
    "    results"
   ]
  },
  {
   "cell_type": "code",
   "execution_count": 66,
   "metadata": {},
   "outputs": [
    {
     "name": "stdout",
     "output_type": "stream",
     "text": [
      "(2495, 9)\n"
     ]
    },
    {
     "data": {
      "text/html": [
       "<div>\n",
       "<style scoped>\n",
       "    .dataframe tbody tr th:only-of-type {\n",
       "        vertical-align: middle;\n",
       "    }\n",
       "\n",
       "    .dataframe tbody tr th {\n",
       "        vertical-align: top;\n",
       "    }\n",
       "\n",
       "    .dataframe thead th {\n",
       "        text-align: right;\n",
       "    }\n",
       "</style>\n",
       "<table border=\"1\" class=\"dataframe\">\n",
       "  <thead>\n",
       "    <tr style=\"text-align: right;\">\n",
       "      <th></th>\n",
       "      <th>PostalCode</th>\n",
       "      <th>Borough</th>\n",
       "      <th>Neighborhood</th>\n",
       "      <th>BoroughLatitude</th>\n",
       "      <th>BoroughLongitude</th>\n",
       "      <th>VenueName</th>\n",
       "      <th>VenueLatitude</th>\n",
       "      <th>VenueLongitude</th>\n",
       "      <th>VenueCategory</th>\n",
       "    </tr>\n",
       "  </thead>\n",
       "  <tbody>\n",
       "    <tr>\n",
       "      <th>0</th>\n",
       "      <td>M5A</td>\n",
       "      <td>Downtown Toronto</td>\n",
       "      <td>Regent Park, Harbourfront</td>\n",
       "      <td>43.654260</td>\n",
       "      <td>-79.360636</td>\n",
       "      <td>Roselle Desserts</td>\n",
       "      <td>43.653447</td>\n",
       "      <td>-79.362017</td>\n",
       "      <td>Bakery</td>\n",
       "    </tr>\n",
       "    <tr>\n",
       "      <th>1</th>\n",
       "      <td>M5A</td>\n",
       "      <td>Downtown Toronto</td>\n",
       "      <td>Regent Park, Harbourfront</td>\n",
       "      <td>43.654260</td>\n",
       "      <td>-79.360636</td>\n",
       "      <td>Tandem Coffee</td>\n",
       "      <td>43.653559</td>\n",
       "      <td>-79.361809</td>\n",
       "      <td>Coffee Shop</td>\n",
       "    </tr>\n",
       "    <tr>\n",
       "      <th>2</th>\n",
       "      <td>M5A</td>\n",
       "      <td>Downtown Toronto</td>\n",
       "      <td>Regent Park, Harbourfront</td>\n",
       "      <td>43.654260</td>\n",
       "      <td>-79.360636</td>\n",
       "      <td>Cooper Koo Family YMCA</td>\n",
       "      <td>43.653249</td>\n",
       "      <td>-79.358008</td>\n",
       "      <td>Distribution Center</td>\n",
       "    </tr>\n",
       "    <tr>\n",
       "      <th>3</th>\n",
       "      <td>M5A</td>\n",
       "      <td>Downtown Toronto</td>\n",
       "      <td>Regent Park, Harbourfront</td>\n",
       "      <td>43.654260</td>\n",
       "      <td>-79.360636</td>\n",
       "      <td>Corktown Common</td>\n",
       "      <td>43.655618</td>\n",
       "      <td>-79.356211</td>\n",
       "      <td>Park</td>\n",
       "    </tr>\n",
       "    <tr>\n",
       "      <th>4</th>\n",
       "      <td>M5A</td>\n",
       "      <td>Downtown Toronto</td>\n",
       "      <td>Regent Park, Harbourfront</td>\n",
       "      <td>43.654260</td>\n",
       "      <td>-79.360636</td>\n",
       "      <td>Dominion Pub and Kitchen</td>\n",
       "      <td>43.656919</td>\n",
       "      <td>-79.358967</td>\n",
       "      <td>Pub</td>\n",
       "    </tr>\n",
       "    <tr>\n",
       "      <th>...</th>\n",
       "      <td>...</td>\n",
       "      <td>...</td>\n",
       "      <td>...</td>\n",
       "      <td>...</td>\n",
       "      <td>...</td>\n",
       "      <td>...</td>\n",
       "      <td>...</td>\n",
       "      <td>...</td>\n",
       "      <td>...</td>\n",
       "    </tr>\n",
       "    <tr>\n",
       "      <th>2490</th>\n",
       "      <td>M7Y</td>\n",
       "      <td>East Toronto</td>\n",
       "      <td>Business reply mail Processing Centre, South C...</td>\n",
       "      <td>43.662744</td>\n",
       "      <td>-79.321558</td>\n",
       "      <td>TTC Leslie Barns</td>\n",
       "      <td>43.657633</td>\n",
       "      <td>-79.325212</td>\n",
       "      <td>Light Rail Station</td>\n",
       "    </tr>\n",
       "    <tr>\n",
       "      <th>2491</th>\n",
       "      <td>M7Y</td>\n",
       "      <td>East Toronto</td>\n",
       "      <td>Business reply mail Processing Centre, South C...</td>\n",
       "      <td>43.662744</td>\n",
       "      <td>-79.321558</td>\n",
       "      <td>TH&amp;SC Toronto Hydroplane &amp; Sailing Club</td>\n",
       "      <td>43.660255</td>\n",
       "      <td>-79.314089</td>\n",
       "      <td>Harbor / Marina</td>\n",
       "    </tr>\n",
       "    <tr>\n",
       "      <th>2492</th>\n",
       "      <td>M7Y</td>\n",
       "      <td>East Toronto</td>\n",
       "      <td>Business reply mail Processing Centre, South C...</td>\n",
       "      <td>43.662744</td>\n",
       "      <td>-79.321558</td>\n",
       "      <td>Balmy Beach Canoe Club</td>\n",
       "      <td>43.661104</td>\n",
       "      <td>-79.313564</td>\n",
       "      <td>Harbor / Marina</td>\n",
       "    </tr>\n",
       "    <tr>\n",
       "      <th>2493</th>\n",
       "      <td>M7Y</td>\n",
       "      <td>East Toronto</td>\n",
       "      <td>Business reply mail Processing Centre, South C...</td>\n",
       "      <td>43.662744</td>\n",
       "      <td>-79.321558</td>\n",
       "      <td>It's the Icing on the Cake</td>\n",
       "      <td>43.663453</td>\n",
       "      <td>-79.329813</td>\n",
       "      <td>Bakery</td>\n",
       "    </tr>\n",
       "    <tr>\n",
       "      <th>2494</th>\n",
       "      <td>M7Y</td>\n",
       "      <td>East Toronto</td>\n",
       "      <td>Business reply mail Processing Centre, South C...</td>\n",
       "      <td>43.662744</td>\n",
       "      <td>-79.321558</td>\n",
       "      <td>TTC Stop #03057</td>\n",
       "      <td>43.663314</td>\n",
       "      <td>-79.330099</td>\n",
       "      <td>Light Rail Station</td>\n",
       "    </tr>\n",
       "  </tbody>\n",
       "</table>\n",
       "<p>2495 rows × 9 columns</p>\n",
       "</div>"
      ],
      "text/plain": [
       "     PostalCode           Borough  \\\n",
       "0           M5A  Downtown Toronto   \n",
       "1           M5A  Downtown Toronto   \n",
       "2           M5A  Downtown Toronto   \n",
       "3           M5A  Downtown Toronto   \n",
       "4           M5A  Downtown Toronto   \n",
       "...         ...               ...   \n",
       "2490        M7Y      East Toronto   \n",
       "2491        M7Y      East Toronto   \n",
       "2492        M7Y      East Toronto   \n",
       "2493        M7Y      East Toronto   \n",
       "2494        M7Y      East Toronto   \n",
       "\n",
       "                                           Neighborhood  BoroughLatitude  \\\n",
       "0                             Regent Park, Harbourfront        43.654260   \n",
       "1                             Regent Park, Harbourfront        43.654260   \n",
       "2                             Regent Park, Harbourfront        43.654260   \n",
       "3                             Regent Park, Harbourfront        43.654260   \n",
       "4                             Regent Park, Harbourfront        43.654260   \n",
       "...                                                 ...              ...   \n",
       "2490  Business reply mail Processing Centre, South C...        43.662744   \n",
       "2491  Business reply mail Processing Centre, South C...        43.662744   \n",
       "2492  Business reply mail Processing Centre, South C...        43.662744   \n",
       "2493  Business reply mail Processing Centre, South C...        43.662744   \n",
       "2494  Business reply mail Processing Centre, South C...        43.662744   \n",
       "\n",
       "      BoroughLongitude                                VenueName  \\\n",
       "0           -79.360636                         Roselle Desserts   \n",
       "1           -79.360636                            Tandem Coffee   \n",
       "2           -79.360636                   Cooper Koo Family YMCA   \n",
       "3           -79.360636                          Corktown Common   \n",
       "4           -79.360636                 Dominion Pub and Kitchen   \n",
       "...                ...                                      ...   \n",
       "2490        -79.321558                         TTC Leslie Barns   \n",
       "2491        -79.321558  TH&SC Toronto Hydroplane & Sailing Club   \n",
       "2492        -79.321558                   Balmy Beach Canoe Club   \n",
       "2493        -79.321558               It's the Icing on the Cake   \n",
       "2494        -79.321558                          TTC Stop #03057   \n",
       "\n",
       "      VenueLatitude  VenueLongitude        VenueCategory  \n",
       "0         43.653447      -79.362017               Bakery  \n",
       "1         43.653559      -79.361809          Coffee Shop  \n",
       "2         43.653249      -79.358008  Distribution Center  \n",
       "3         43.655618      -79.356211                 Park  \n",
       "4         43.656919      -79.358967                  Pub  \n",
       "...             ...             ...                  ...  \n",
       "2490      43.657633      -79.325212   Light Rail Station  \n",
       "2491      43.660255      -79.314089      Harbor / Marina  \n",
       "2492      43.661104      -79.313564      Harbor / Marina  \n",
       "2493      43.663453      -79.329813               Bakery  \n",
       "2494      43.663314      -79.330099   Light Rail Station  \n",
       "\n",
       "[2495 rows x 9 columns]"
      ]
     },
     "execution_count": 66,
     "metadata": {},
     "output_type": "execute_result"
    }
   ],
   "source": [
    "# convert the venues list into a new DataFrame\n",
    "df_venues = pd.DataFrame(venues)\n",
    "\n",
    "\n",
    "df_venues.columns = ['PostalCode', 'Borough', 'Neighborhood', 'BoroughLatitude', 'BoroughLongitude', 'VenueName', 'VenueLatitude', 'VenueLongitude', 'VenueCategory']\n",
    "\n",
    "print(df_venues.shape)\n",
    "df_venues"
   ]
  }
 ],
 "metadata": {
  "kernelspec": {
   "display_name": "Python 3",
   "language": "python",
   "name": "python3"
  },
  "language_info": {
   "codemirror_mode": {
    "name": "ipython",
    "version": 3
   },
   "file_extension": ".py",
   "mimetype": "text/x-python",
   "name": "python",
   "nbconvert_exporter": "python",
   "pygments_lexer": "ipython3",
   "version": "3.7.4"
  }
 },
 "nbformat": 4,
 "nbformat_minor": 4
}
